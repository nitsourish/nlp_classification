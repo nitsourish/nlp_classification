{
 "cells": [
  {
   "cell_type": "markdown",
   "metadata": {},
   "source": [
    "## This jupyter notebook contains deep dive in the data provided by MyHammer to do data discovery, exploratory analysis and build multiclass classifier to predict correct serviceid category:\n",
    "\n",
    "### After taking a few educated guesses the final model accuracy on validation dataset is 77.1%. Following are my assumptions \n",
    "\n",
    "#### a) 'description' field is the detailed information of field title\n",
    "#### b)''createdAt\" and ''target_date' is provided by the user before creation of  serviceid category classification task\n",
    "#### c) 'tradeClassificationType' is selected first by the user and then serviceid category is predicted by the classifier"
   ]
  },
  {
   "cell_type": "code",
   "execution_count": 4,
   "metadata": {},
   "outputs": [
    {
     "name": "stdout",
     "output_type": "stream",
     "text": [
      "Library Import\n"
     ]
    }
   ],
   "source": [
    "from __future__ import division\n",
    "import pandas as pd\n",
    "import numpy as np\n",
    "import math\n",
    "import subprocess\n",
    "import os\n",
    "import io\n",
    "from gensim.models import FastText,word2vec\n",
    "# from pyspark import SparkContext\n",
    "# from pyspark.sql import HiveContext\n",
    "import gcsfs\n",
    "# sc = SparkContext()\n",
    "# sc.setLogLevel(\"ERROR\")\n",
    "# spark = HiveContext(sc)\n",
    "import time\n",
    "import gc\n",
    "from gensim.test.utils import get_tmpfile\n",
    "print('Library Import')\n",
    "import gcsfs\n",
    "gcsfs.GCSFileSystem(project='my_project')\n",
    "import pyspark\n",
    "import pyspark.sql.functions as F\n",
    "import sqlalchemy\n",
    "import getpass\n",
    "import pyspark.sql.window as Window\n",
    "from pyspark.sql.functions import udf\n",
    "from pyspark import SparkContext\n",
    "from pyspark.sql import SQLContext\n",
    "from pyspark.sql import SparkSession\n",
    "from functools import reduce\n",
    "from pyspark.sql import DataFrame\n",
    "import os\n",
    "from hyperopt import STATUS_OK\n",
    "from timeit import default_timer as timer\n",
    "from hyperopt import hp\n",
    "from hyperopt.pyll.stochastic import sample\n",
    "import numpy as np \n",
    "from hyperopt import tpe,Trials,fmin\n",
    "import pandas as pd\n",
    "import pyarrow.parquet as pq\n",
    "from fastparquet import ParquetFile\n",
    "import pyspark.ml as ml\n",
    "from pyspark.ml.recommendation import ALS, ALSModel\n",
    "from pyspark.sql.window import Window\n",
    "from pyspark.ml.tuning import ParamGridBuilder, CrossValidator\n",
    "from pyspark.ml.evaluation import RegressionEvaluator\n",
    "from pyspark.ml.feature import VectorAssembler\n",
    "from pyspark.ml.classification import RandomForestClassifier, RandomForestClassificationModel, GBTClassifier, GBTClassificationModel\n",
    "from pyspark.ml.evaluation import BinaryClassificationEvaluator\n",
    "import pandas as pd\n",
    "from sklearn.metrics import roc_auc_score\n",
    "from pyspark.ml.feature import PolynomialExpansion\n",
    "from pyspark.ml.classification import RandomForestClassifier, RandomForestClassificationModel\n",
    "import sklearn.neighbors\n",
    "import pandas as pd\n",
    "from scipy.stats import chi2_contingency\n",
    "from pyspark.sql.types import IntegerType,StringType,FloatType\n",
    "from sklearn.model_selection import (\n",
    "    GridSearchCV,\n",
    "    KFold,\n",
    "    ParameterGrid,\n",
    "    ParameterSampler,\n",
    "    RandomizedSearchCV,\n",
    "    StratifiedKFold,\n",
    "    StratifiedShuffleSplit,\n",
    "    cross_val_score,\n",
    "    train_test_split)\n",
    "from sklearn.metrics import (\n",
    "    accuracy_score,\n",
    "    log_loss,\n",
    "    make_scorer,\n",
    "    roc_auc_score,\n",
    ")\n",
    "import xgboost as xgb\n",
    "from ctypes import *\n",
    "from sklearn import datasets, metrics, model_selection\n",
    "from sklearn.model_selection import cross_val_score, StratifiedKFold\n",
    "from sklearn.model_selection import GridSearchCV,RandomizedSearchCV \n",
    "from xgboost.sklearn import XGBClassifier,XGBRegressor\n",
    "import tensorflow as tf\n",
    "from sklearn.linear_model import LogisticRegression\n",
    "import sklearn.preprocessing as pr\n",
    "from sklearn.preprocessing import LabelEncoder\n",
    "import pickle\n",
    "mode = 'overwrite'\n",
    "from tensorflow.python.keras import backend as K\n",
    "import subprocess\n",
    "from gensim.models import FastText,word2vec\n",
    "from gensim.models.keyedvectors import FastTextKeyedVectors, KeyedVectors\n",
    "import gcsfs\n",
    "import nltk\n",
    "# nltk.download('punkt')\n",
    "import seaborn as sns\n",
    "import re\n",
    "import string\n",
    "from nltk.corpus import stopwords\n",
    "import gensim\n",
    "from gensim.models import FastText,word2vec\n",
    "import seaborn as sns\n",
    "from sklearn.decomposition import PCA\n",
    "# fast_text_mod = FastText.load('/tmp/fasttext.model/')\n",
    "# fast_text_mod = KeyedVectors.load('gs://meijer-analystplatform-analyst/raziah/subs/productionModel/science/subs_model_fasttext_2018_sp.model')"
   ]
  },
  {
   "cell_type": "markdown",
   "metadata": {},
   "source": [
    "## Exploratory analysis and data preperation"
   ]
  },
  {
   "cell_type": "markdown",
   "metadata": {},
   "source": [
    "### sneak peek of data"
   ]
  },
  {
   "cell_type": "code",
   "execution_count": 5,
   "metadata": {},
   "outputs": [
    {
     "name": "stdout",
     "output_type": "stream",
     "text": [
      "         id                                              title  \\\n",
      "0  11096465  Balkon mit Fliesenbelag (ca. 5,8 m2) sanieren ...   \n",
      "1  11105910  Wir suchen Subunternehmer f?ºr Winterdienst Ar...   \n",
      "2  11289195                    Schornstein zu Ziegel abdichten   \n",
      "3  11991226                Gehweg auf ca. 17 x 3 Meter streuen   \n",
      "4  12056087              Geradl?§ufige Betontreppe f?ºr Neubau   \n",
      "\n",
      "                                         description        createdAt  \\\n",
      "0  (1) Entfernen von Fliesenbelag und Gef?§lleest...  5/30/2019 10:29   \n",
      "1  Wir Arbeiten mit vielen Gro?üen Firmen zusamme...   5/31/2019 8:53   \n",
      "2  Die Abdichtung vom Schornstein zu den Dachzieg...  6/14/2019 11:10   \n",
      "3  Es soll im Winter bei gesetzlicher Notwendigke...   8/5/2019 17:18   \n",
      "4  - Gerade Betontreppe (Fertigteil oder vor Ort ...  8/10/2019 13:34   \n",
      "\n",
      "           endedAt  serviceId  \\\n",
      "0  7/10/2019 11:25       8130   \n",
      "1    7/9/2019 8:29       9010   \n",
      "2  7/17/2019 10:52       1060   \n",
      "3   9/4/2019 17:18       9010   \n",
      "4   9/9/2019 13:34      10010   \n",
      "\n",
      "                                    user_description  service_based_form  \\\n",
      "0  (1) Entfernen von Fliesenbelag und Gef?§lleest...                   0   \n",
      "1  Wir Arbeiten mit vielen Gro?üen Firmen zusamme...                   0   \n",
      "2  Die Abdichtung vom Schornstein zu den Dachzieg...                   0   \n",
      "3  Es soll im Winter bei gesetzlicher Notwendigke...                   0   \n",
      "4  - Gerade Betontreppe (Fertigteil oder vor Ort ...                   0   \n",
      "\n",
      "          target_date  reissuedCopyOf  tradeClassificationType  state  \\\n",
      "0             Zeitnah               0                      1.0      0   \n",
      "1  In 3 bis 6 Monaten               0                      4.0      0   \n",
      "2             Zeitnah               0                      1.0      0   \n",
      "3  In 3 bis 6 Monaten               0                      4.0      0   \n",
      "4  In 3 bis 6 Monaten               0                      2.0      0   \n",
      "\n",
      "  stateText sbf_form_text  \n",
      "0    active           NaN  \n",
      "1    active           NaN  \n",
      "2    active           NaN  \n",
      "3    active           NaN  \n",
      "4    active           NaN  \n",
      "(634, 14)\n",
      "id                           int64\n",
      "title                       object\n",
      "description                 object\n",
      "createdAt                   object\n",
      "endedAt                     object\n",
      "serviceId                    int64\n",
      "user_description            object\n",
      "service_based_form           int64\n",
      "target_date                 object\n",
      "reissuedCopyOf               int64\n",
      "tradeClassificationType    float64\n",
      "state                        int64\n",
      "stateText                   object\n",
      "sbf_form_text               object\n",
      "dtype: object\n"
     ]
    },
    {
     "data": {
      "text/plain": [
       "Index(['id', 'title', 'description', 'createdAt', 'endedAt', 'serviceId',\n",
       "       'user_description', 'service_based_form', 'target_date',\n",
       "       'reissuedCopyOf', 'tradeClassificationType', 'state', 'stateText',\n",
       "       'sbf_form_text'],\n",
       "      dtype='object')"
      ]
     },
     "execution_count": 5,
     "metadata": {},
     "output_type": "execute_result"
    }
   ],
   "source": [
    "data_path = 'nlp_dat_classif.csv'\n",
    "data = pd.read_csv(data_path,encoding='ISO-8859-1')\n",
    "print(data.head(5))\n",
    "print(data.shape)\n",
    "print(data.dtypes)\n",
    "data.columns"
   ]
  },
  {
   "cell_type": "markdown",
   "metadata": {},
   "source": [
    "### selecting the useful fields for further analysis,data prep and model building"
   ]
  },
  {
   "cell_type": "markdown",
   "metadata": {},
   "source": [
    "#### Missing value Explore"
   ]
  },
  {
   "cell_type": "code",
   "execution_count": 14,
   "metadata": {},
   "outputs": [
    {
     "name": "stdout",
     "output_type": "stream",
     "text": [
      "                           0  percentage_missing\n",
      "id                         0            0.000000\n",
      "title                      0            0.000000\n",
      "description                0            0.000000\n",
      "createdAt                  0            0.000000\n",
      "endedAt                    0            0.000000\n",
      "serviceId                  0            0.000000\n",
      "user_description         618           97.476341\n",
      "service_based_form         0            0.000000\n",
      "target_date                0            0.000000\n",
      "reissuedCopyOf             0            0.000000\n",
      "tradeClassificationType    0            0.000000\n",
      "state                      0            0.000000\n",
      "stateText                  0            0.000000\n",
      "sbf_form_text             16            2.523659\n"
     ]
    }
   ],
   "source": [
    "missing = pd.DataFrame(data.apply(lambda x: np.sum(x.isnull(), axis=0)))\n",
    "missing['percentage_missing'] = (missing.iloc[:,0]/data.shape[0])*100\n",
    "print(missing)"
   ]
  },
  {
   "cell_type": "markdown",
   "metadata": {},
   "source": [
    "#### Only significant missing value for field user_description         "
   ]
  },
  {
   "cell_type": "code",
   "execution_count": 13,
   "metadata": {},
   "outputs": [
    {
     "name": "stdout",
     "output_type": "stream",
     "text": [
      "this is for: state\n",
      "0    634\n",
      "Name: state, dtype: int64\n",
      "this is for: stateText\n",
      "active    634\n",
      "Name: stateText, dtype: int64\n",
      "this is for: reissuedCopyOf\n",
      "0    634\n",
      "Name: reissuedCopyOf, dtype: int64\n",
      "this is for: tradeClassificationType\n",
      "1.0    337\n",
      "2.0    183\n",
      "4.0    114\n",
      "Name: tradeClassificationType, dtype: int64\n",
      "this is for: service_based_form\n",
      "1    618\n",
      "0     16\n",
      "Name: service_based_form, dtype: int64\n",
      "compararision with field user_description and description\n",
      "                                         description  \\\n",
      "0  (1) Entfernen von Fliesenbelag und Gef?§lleest...   \n",
      "1  Wir Arbeiten mit vielen Gro?üen Firmen zusamme...   \n",
      "2  Die Abdichtung vom Schornstein zu den Dachzieg...   \n",
      "\n",
      "                                    user_description  \n",
      "0  (1) Entfernen von Fliesenbelag und Gef?§lleest...  \n",
      "1  Wir Arbeiten mit vielen Gro?üen Firmen zusamme...  \n",
      "2  Die Abdichtung vom Schornstein zu den Dachzieg...  \n",
      "compararision with field sbf_form_text and description\n",
      "                                          description  \\\n",
      "14  Anfertigung eines begehbaren Kleiderschranks m...   \n",
      "16  Sehr geehrte Damen und Herren,  in unserem Dac...   \n",
      "17  Hallo,  da ich zwei linke H?§nde und nicht das...   \n",
      "\n",
      "                                        sbf_form_text  \n",
      "14  Anfertigung eines begehbaren Kleiderschranks m...  \n",
      "16  Sehr geehrte Damen und Herren,  in unserem Dac...  \n",
      "17  Hallo,  da ich zwei linke H?§nde und nicht das...  \n"
     ]
    }
   ],
   "source": [
    "cols_to_explore = ['state', 'stateText','reissuedCopyOf', 'tradeClassificationType','service_based_form']\n",
    "for i in cols_to_explore:\n",
    "    print('this is for:',i)\n",
    "    print(data[i].value_counts())\n",
    "txt_field_check = ['user_description','sbf_form_text'] \n",
    "for i in txt_field_check:\n",
    "    print('compararision with field %s and description' %(i))\n",
    "    print(data.loc[data[i].notna(),['description',i]].head(3))    "
   ]
  },
  {
   "cell_type": "markdown",
   "metadata": {},
   "source": [
    "-\t As the fields 'state','stateText' and 'reissuedCopyOf' has only one distinct value each for this data these fields has no predictive power.\n",
    "-\t Also for more than 97% of the data service_based_form has only one value(1). So there is no significant variance for this field\n",
    "-    Also from the comparasion of text for fields user_description and sbf_form_text w.r.t the field description it's the same information.So these two fields - user_description and sbf_form_text are redundant and can remove from the dataset     "
   ]
  },
  {
   "cell_type": "code",
   "execution_count": 6,
   "metadata": {},
   "outputs": [
    {
     "name": "stdout",
     "output_type": "stream",
     "text": [
      "         id                                              title  \\\n",
      "0  11096465  Balkon mit Fliesenbelag (ca. 5,8 m2) sanieren ...   \n",
      "1  11105910  Wir suchen Subunternehmer f?ºr Winterdienst Ar...   \n",
      "2  11289195                    Schornstein zu Ziegel abdichten   \n",
      "3  11991226                Gehweg auf ca. 17 x 3 Meter streuen   \n",
      "4  12056087              Geradl?§ufige Betontreppe f?ºr Neubau   \n",
      "\n",
      "                                         description  \\\n",
      "0  (1) Entfernen von Fliesenbelag und Gef?§lleest...   \n",
      "1  Wir Arbeiten mit vielen Gro?üen Firmen zusamme...   \n",
      "2  Die Abdichtung vom Schornstein zu den Dachzieg...   \n",
      "3  Es soll im Winter bei gesetzlicher Notwendigke...   \n",
      "4  - Gerade Betontreppe (Fertigteil oder vor Ort ...   \n",
      "\n",
      "                                    user_description  serviceId  \\\n",
      "0  (1) Entfernen von Fliesenbelag und Gef?§lleest...       8130   \n",
      "1  Wir Arbeiten mit vielen Gro?üen Firmen zusamme...       9010   \n",
      "2  Die Abdichtung vom Schornstein zu den Dachzieg...       1060   \n",
      "3  Es soll im Winter bei gesetzlicher Notwendigke...       9010   \n",
      "4  - Gerade Betontreppe (Fertigteil oder vor Ort ...      10010   \n",
      "\n",
      "         createdAt         target_date  tradeClassificationType sbf_form_text  \n",
      "0  5/30/2019 10:29             Zeitnah                      1.0                \n",
      "1   5/31/2019 8:53  In 3 bis 6 Monaten                      4.0                \n",
      "2  6/14/2019 11:10             Zeitnah                      1.0                \n",
      "3   8/5/2019 17:18  In 3 bis 6 Monaten                      4.0                \n",
      "4  8/10/2019 13:34  In 3 bis 6 Monaten                      2.0                \n"
     ]
    }
   ],
   "source": [
    "data_useful = data[['id', 'title', 'description','user_description','serviceId','createdAt','target_date','tradeClassificationType','sbf_form_text']]\n",
    "data_useful = data_useful.replace(np.nan, '', regex=True)\n",
    "print(data_useful.head(5))"
   ]
  },
  {
   "cell_type": "markdown",
   "metadata": {},
   "source": [
    "### Exploring the target"
   ]
  },
  {
   "cell_type": "code",
   "execution_count": 17,
   "metadata": {},
   "outputs": [
    {
     "name": "stdout",
     "output_type": "stream",
     "text": [
      "Frequency Table for serviceId:\n",
      "7010     202\n",
      "9010     113\n",
      "10010     87\n",
      "7060      81\n",
      "8130      55\n",
      "1060      44\n",
      "12070     25\n",
      "12130     19\n",
      "3020       8\n",
      "Name: serviceId, dtype: int64\n"
     ]
    },
    {
     "data": {
      "text/plain": [
       "<AxesSubplot:>"
      ]
     },
     "execution_count": 17,
     "metadata": {},
     "output_type": "execute_result"
    },
    {
     "data": {
      "image/png": "[encoded data removed]",
      "text/plain": [
       "<Figure size 432x288 with 1 Axes>"
      ]
     },
     "metadata": {
      "needs_background": "light"
     },
     "output_type": "display_data"
    }
   ],
   "source": [
    "temp1 = data_useful['serviceId'].value_counts()\n",
    "print ('Frequency Table for serviceId:') \n",
    "print (temp1)\n",
    "temp1.plot(kind='bar')"
   ]
  },
  {
   "cell_type": "markdown",
   "metadata": {},
   "source": [
    "-\tMulticlass classification task with total 9 service categories \n",
    "-   Apart from last three categories all other categories have example > 40."
   ]
  },
  {
   "cell_type": "markdown",
   "metadata": {},
   "source": [
    "### Relationship of ServiceID with tradeClassificationType     "
   ]
  },
  {
   "cell_type": "code",
   "execution_count": 26,
   "metadata": {},
   "outputs": [
    {
     "name": "stdout",
     "output_type": "stream",
     "text": [
      "serviceId                    1060      3020      7010     7060      8130  \\\n",
      "tradeClassificationType                                                    \n",
      "1.0                      0.069401  0.012618  0.315457  0.12776  0.006309   \n",
      "2.0                      0.000000  0.000000  0.001577  0.00000  0.080442   \n",
      "4.0                      0.000000  0.000000  0.001577  0.00000  0.000000   \n",
      "All                      0.069401  0.012618  0.318612  0.12776  0.086751   \n",
      "\n",
      "serviceId                    9010     10010     12070     12130       All  \n",
      "tradeClassificationType                                                    \n",
      "1.0                      0.000000  0.000000  0.000000  0.000000  0.531546  \n",
      "2.0                      0.000000  0.137224  0.039432  0.029968  0.288644  \n",
      "4.0                      0.178233  0.000000  0.000000  0.000000  0.179811  \n",
      "All                      0.178233  0.137224  0.039432  0.029968  1.000000  \n",
      "Chi-sq Test Statistics = 1.949 \n",
      "P-Value = 1.000 \n",
      "Degrees of Freedom = 27.000\n"
     ]
    },
    {
     "data": {
      "text/plain": [
       "<seaborn.axisgrid.FacetGrid at 0x7feb74d596a0>"
      ]
     },
     "execution_count": 26,
     "metadata": {},
     "output_type": "execute_result"
    },
    {
     "data": {
      "image/png": "[encoded data removed]",
      "text/plain": [
       "<Figure size 427.875x360 with 1 Axes>"
      ]
     },
     "metadata": {
      "needs_background": "light"
     },
     "output_type": "display_data"
    }
   ],
   "source": [
    "table = pd.crosstab(data_useful['tradeClassificationType'],data_useful['serviceId'],margins=True,normalize=True)\n",
    "print(table)\n",
    "stat, pvalue, dof, expected = chi2_contingency(table)\n",
    "print('Chi-sq Test Statistics = %.3f \\nP-Value = %.3f \\nDegrees of Freedom = %.3f' % (stat, pvalue, dof))\n",
    "sns.catplot(x=\"tradeClassificationType\", y=\"serviceId\",hue='serviceId', kind=\"bar\", data=data_useful)"
   ]
  },
  {
   "cell_type": "markdown",
   "metadata": {},
   "source": [
    "-\tFrom the visualization,descriptive stat and Chi-sq Test Statistics the relationship is stron and tradeClassificationType is a strong predictor to classify ServiceID"
   ]
  },
  {
   "cell_type": "markdown",
   "metadata": {},
   "source": [
    "## Data preparation and feature engineering. Also data exploration to assess usefulness of features"
   ]
  },
  {
   "cell_type": "markdown",
   "metadata": {},
   "source": [
    "### Fist to create a combined field by concatanating two fields title and description as these two contains task summary and description.Then two apply following nlp text preprocessing steps to create clean text\n",
    "\n",
    "-  i) special character,punctuation and digit removal\n",
    "-  ii) lagging and leading space removal\n",
    "-  iii) making the text in lower case\n",
    "-  iv) Removing German stopwords\n",
    "-  v) Tokenizing the text"
   ]
  },
  {
   "cell_type": "code",
   "execution_count": 7,
   "metadata": {},
   "outputs": [],
   "source": [
    "stop_words = ['aber',\n",
    " 'alle',\n",
    " 'allem',\n",
    " 'allen',\n",
    " 'aller',\n",
    " 'alles',\n",
    " 'als',\n",
    " 'also',\n",
    " 'am',\n",
    " 'an',\n",
    " 'ander',\n",
    " 'andere',\n",
    " 'anderem',\n",
    " 'anderen',\n",
    " 'anderer',\n",
    " 'anderes',\n",
    " 'anderm',\n",
    " 'andern',\n",
    " 'anderr',\n",
    " 'anders',\n",
    " 'auch',\n",
    " 'auf',\n",
    " 'aus',\n",
    " 'bei',\n",
    " 'bin',\n",
    " 'bis',\n",
    " 'bist',\n",
    " 'da',\n",
    " 'damit',\n",
    " 'dann',\n",
    " 'der',\n",
    " 'den',\n",
    " 'des',\n",
    " 'dem',\n",
    " 'die',\n",
    " 'das',\n",
    " 'dass',\n",
    " 'daß',\n",
    " 'derselbe',\n",
    " 'derselben',\n",
    " 'denselben',\n",
    " 'desselben',\n",
    " 'demselben',\n",
    " 'dieselbe',\n",
    " 'dieselben',\n",
    " 'dasselbe',\n",
    " 'dazu',\n",
    " 'dein',\n",
    " 'deine',\n",
    " 'deinem',\n",
    " 'deinen',\n",
    " 'deiner',\n",
    " 'deines',\n",
    " 'denn',\n",
    " 'derer',\n",
    " 'dessen',\n",
    " 'dich',\n",
    " 'dir',\n",
    " 'du',\n",
    " 'dies',\n",
    " 'diese',\n",
    " 'diesem',\n",
    " 'diesen',\n",
    " 'dieser',\n",
    " 'dieses',\n",
    " 'doch',\n",
    " 'dort',\n",
    " 'durch',\n",
    " 'ein',\n",
    " 'eine',\n",
    " 'einem',\n",
    " 'einen',\n",
    " 'einer',\n",
    " 'eines',\n",
    " 'einig',\n",
    " 'einige',\n",
    " 'einigem',\n",
    " 'einigen',\n",
    " 'einiger',\n",
    " 'einiges',\n",
    " 'einmal',\n",
    " 'er',\n",
    " 'ihn',\n",
    " 'ihm',\n",
    " 'es',\n",
    " 'etwas',\n",
    " 'euer',\n",
    " 'eure',\n",
    " 'eurem',\n",
    " 'euren',\n",
    " 'eurer',\n",
    " 'eures',\n",
    " 'für',\n",
    " 'gegen',\n",
    " 'gewesen',\n",
    " 'hab',\n",
    " 'habe',\n",
    " 'haben',\n",
    " 'hat',\n",
    " 'hatte',\n",
    " 'hatten',\n",
    " 'hier',\n",
    " 'hin',\n",
    " 'hinter',\n",
    " 'ich',\n",
    " 'mich',\n",
    " 'mir',\n",
    " 'ihr',\n",
    " 'ihre',\n",
    " 'ihrem',\n",
    " 'ihren',\n",
    " 'ihrer',\n",
    " 'ihres',\n",
    " 'euch',\n",
    " 'im',\n",
    " 'in',\n",
    " 'indem',\n",
    " 'ins',\n",
    " 'ist',\n",
    " 'jede',\n",
    " 'jedem',\n",
    " 'jeden',\n",
    " 'jeder',\n",
    " 'jedes',\n",
    " 'jene',\n",
    " 'jenem',\n",
    " 'jenen',\n",
    " 'jener',\n",
    " 'jenes',\n",
    " 'jetzt',\n",
    " 'kann',\n",
    " 'kein',\n",
    " 'keine',\n",
    " 'keinem',\n",
    " 'keinen',\n",
    " 'keiner',\n",
    " 'keines',\n",
    " 'können',\n",
    " 'könnte',\n",
    " 'machen',\n",
    " 'man',\n",
    " 'manche',\n",
    " 'manchem',\n",
    " 'manchen',\n",
    " 'mancher',\n",
    " 'manches',\n",
    " 'mein',\n",
    " 'meine',\n",
    " 'meinem',\n",
    " 'meinen',\n",
    " 'meiner',\n",
    " 'meines',\n",
    " 'mit',\n",
    " 'muss',\n",
    " 'musste',\n",
    " 'nach',\n",
    " 'nicht',\n",
    " 'nichts',\n",
    " 'noch',\n",
    " 'nun',\n",
    " 'nur',\n",
    " 'ob',\n",
    " 'oder',\n",
    " 'ohne',\n",
    " 'sehr',\n",
    " 'sein',\n",
    " 'seine',\n",
    " 'seinem',\n",
    " 'seinen',\n",
    " 'seiner',\n",
    " 'seines',\n",
    " 'selbst',\n",
    " 'sich',\n",
    " 'sie',\n",
    " 'ihnen',\n",
    " 'sind',\n",
    " 'so',\n",
    " 'solche',\n",
    " 'solchem',\n",
    " 'solchen',\n",
    " 'solcher',\n",
    " 'solches',\n",
    " 'soll',\n",
    " 'sollte',\n",
    " 'sondern',\n",
    " 'sonst',\n",
    " 'über',\n",
    " 'um',\n",
    " 'und',\n",
    " 'uns',\n",
    " 'unsere',\n",
    " 'unserem',\n",
    " 'unseren',\n",
    " 'unser',\n",
    " 'unseres',\n",
    " 'unter',\n",
    " 'viel',\n",
    " 'vom',\n",
    " 'von',\n",
    " 'vor',\n",
    " 'während',\n",
    " 'war',\n",
    " 'waren',\n",
    " 'warst',\n",
    " 'was',\n",
    " 'weg',\n",
    " 'weil',\n",
    " 'weiter',\n",
    " 'welche',\n",
    " 'welchem',\n",
    " 'welchen',\n",
    " 'welcher',\n",
    " 'welches',\n",
    " 'wenn',\n",
    " 'werde',\n",
    " 'werden',\n",
    " 'wie',\n",
    " 'wieder',\n",
    " 'will',\n",
    " 'wir',\n",
    " 'wird',\n",
    " 'wirst',\n",
    " 'wo',\n",
    " 'wollen',\n",
    " 'wollte',\n",
    " 'würde',\n",
    " 'würden',\n",
    " 'zu',\n",
    " 'zum',\n",
    " 'zur',\n",
    " 'zwar',\n",
    " 'zwischen']"
   ]
  },
  {
   "cell_type": "code",
   "execution_count": 8,
   "metadata": {},
   "outputs": [
    {
     "name": "stdout",
     "output_type": "stream",
     "text": [
      "explore stopwords: ['aber', 'alle', 'allem', 'allen', 'aller']\n"
     ]
    },
    {
     "data": {
      "text/html": [
       "<div>\n",
       "<style scoped>\n",
       "    .dataframe tbody tr th:only-of-type {\n",
       "        vertical-align: middle;\n",
       "    }\n",
       "\n",
       "    .dataframe tbody tr th {\n",
       "        vertical-align: top;\n",
       "    }\n",
       "\n",
       "    .dataframe thead th {\n",
       "        text-align: right;\n",
       "    }\n",
       "</style>\n",
       "<table border=\"1\" class=\"dataframe\">\n",
       "  <thead>\n",
       "    <tr style=\"text-align: right;\">\n",
       "      <th></th>\n",
       "      <th>id</th>\n",
       "      <th>title</th>\n",
       "      <th>description</th>\n",
       "      <th>user_description</th>\n",
       "      <th>serviceId</th>\n",
       "      <th>createdAt</th>\n",
       "      <th>target_date</th>\n",
       "      <th>tradeClassificationType</th>\n",
       "      <th>sbf_form_text</th>\n",
       "      <th>composite_text</th>\n",
       "      <th>clean_txt</th>\n",
       "    </tr>\n",
       "  </thead>\n",
       "  <tbody>\n",
       "    <tr>\n",
       "      <th>0</th>\n",
       "      <td>11096465</td>\n",
       "      <td>Balkon mit Fliesenbelag (ca. 5,8 m2) sanieren ...</td>\n",
       "      <td>(1) Entfernen von Fliesenbelag und Gef?§lleest...</td>\n",
       "      <td>(1) Entfernen von Fliesenbelag und Gef?§lleest...</td>\n",
       "      <td>8130</td>\n",
       "      <td>5/30/2019 10:29</td>\n",
       "      <td>Zeitnah</td>\n",
       "      <td>1.0</td>\n",
       "      <td></td>\n",
       "      <td>balkon mit fliesenbelag (ca. , m) sanieren / ....</td>\n",
       "      <td>[balkon, fliesenbelag, ca, , m, sanieren, , og...</td>\n",
       "    </tr>\n",
       "    <tr>\n",
       "      <th>1</th>\n",
       "      <td>11105910</td>\n",
       "      <td>Wir suchen Subunternehmer f?ºr Winterdienst Ar...</td>\n",
       "      <td>Wir Arbeiten mit vielen Gro?üen Firmen zusamme...</td>\n",
       "      <td>Wir Arbeiten mit vielen Gro?üen Firmen zusamme...</td>\n",
       "      <td>9010</td>\n",
       "      <td>5/31/2019 8:53</td>\n",
       "      <td>In 3 bis 6 Monaten</td>\n",
       "      <td>4.0</td>\n",
       "      <td></td>\n",
       "      <td>wir suchen subunternehmer f?ºr winterdienst ar...</td>\n",
       "      <td>[suchen, subunternehmer, fºr, winterdienst, ar...</td>\n",
       "    </tr>\n",
       "    <tr>\n",
       "      <th>2</th>\n",
       "      <td>11289195</td>\n",
       "      <td>Schornstein zu Ziegel abdichten</td>\n",
       "      <td>Die Abdichtung vom Schornstein zu den Dachzieg...</td>\n",
       "      <td>Die Abdichtung vom Schornstein zu den Dachzieg...</td>\n",
       "      <td>1060</td>\n",
       "      <td>6/14/2019 11:10</td>\n",
       "      <td>Zeitnah</td>\n",
       "      <td>1.0</td>\n",
       "      <td></td>\n",
       "      <td>schornstein zu ziegel abdichtendie abdichtung ...</td>\n",
       "      <td>[schornstein, ziegel, abdichtendie, abdichtung...</td>\n",
       "    </tr>\n",
       "  </tbody>\n",
       "</table>\n",
       "</div>"
      ],
      "text/plain": [
       "         id                                              title  \\\n",
       "0  11096465  Balkon mit Fliesenbelag (ca. 5,8 m2) sanieren ...   \n",
       "1  11105910  Wir suchen Subunternehmer f?ºr Winterdienst Ar...   \n",
       "2  11289195                    Schornstein zu Ziegel abdichten   \n",
       "\n",
       "                                         description  \\\n",
       "0  (1) Entfernen von Fliesenbelag und Gef?§lleest...   \n",
       "1  Wir Arbeiten mit vielen Gro?üen Firmen zusamme...   \n",
       "2  Die Abdichtung vom Schornstein zu den Dachzieg...   \n",
       "\n",
       "                                    user_description  serviceId  \\\n",
       "0  (1) Entfernen von Fliesenbelag und Gef?§lleest...       8130   \n",
       "1  Wir Arbeiten mit vielen Gro?üen Firmen zusamme...       9010   \n",
       "2  Die Abdichtung vom Schornstein zu den Dachzieg...       1060   \n",
       "\n",
       "         createdAt         target_date  tradeClassificationType sbf_form_text  \\\n",
       "0  5/30/2019 10:29             Zeitnah                      1.0                 \n",
       "1   5/31/2019 8:53  In 3 bis 6 Monaten                      4.0                 \n",
       "2  6/14/2019 11:10             Zeitnah                      1.0                 \n",
       "\n",
       "                                      composite_text  \\\n",
       "0  balkon mit fliesenbelag (ca. , m) sanieren / ....   \n",
       "1  wir suchen subunternehmer f?ºr winterdienst ar...   \n",
       "2  schornstein zu ziegel abdichtendie abdichtung ...   \n",
       "\n",
       "                                           clean_txt  \n",
       "0  [balkon, fliesenbelag, ca, , m, sanieren, , og...  \n",
       "1  [suchen, subunternehmer, fºr, winterdienst, ar...  \n",
       "2  [schornstein, ziegel, abdichtendie, abdichtung...  "
      ]
     },
     "execution_count": 8,
     "metadata": {},
     "output_type": "execute_result"
    }
   ],
   "source": [
    "data_useful['composite_text'] = data['title'] + data['description'].map(str)\n",
    "data_useful['composite_text'] = [re.sub(\"@[\\w]*\",'',str(data_useful.composite_text.values[i])).strip() for i in range(len(data_useful))] \n",
    "data_useful['composite_text'] = [re.sub(\"\\d\",'',str(data_useful.composite_text.values[i])).strip() for i in range(len(data_useful))] \n",
    "data_useful['composite_text'] = [str(data_useful.composite_text.values[i]).lower().strip() for i in range(len(data_useful))] \n",
    "table = str.maketrans('', '', string.punctuation)\n",
    "data_useful['clean_txt'] = data_useful['composite_text'].apply(lambda x: [w.translate(table) for w in x.split(' ') if w not in('.','')])\n",
    "# stop_words = stopwords.words('german')\n",
    "print('explore stopwords:',stop_words[0:5])\n",
    "data_useful['clean_txt'] = data_useful['clean_txt'].apply(lambda x: [w for w in x if w not in(stop_words)])\n",
    "data_useful.head(3)"
   ]
  },
  {
   "cell_type": "markdown",
   "metadata": {},
   "source": [
    "### As the text is preprocessed and Tokenized it's suitable to apply NLP algorithms like W2vec or FastText for feture extraction from text. We will explore following two techniques two create word vectors or embedding and choose the best for final classifier.\n",
    "\n",
    "- a) gensim Word2Vec(100 dimention vector)\n",
    "- b) gensim FastText(100 dimention vector)"
   ]
  },
  {
   "cell_type": "markdown",
   "metadata": {},
   "source": [
    "#### Before embedding creation let's first let's do other feature engineering and exploration - target_date and tradeClassificationType"
   ]
  },
  {
   "cell_type": "code",
   "execution_count": 120,
   "metadata": {},
   "outputs": [
    {
     "data": {
      "text/plain": [
       "array(['Zeitnah', 'In 3 bis 6 Monaten', 'In den n?§chsten 3 Monaten',\n",
       "       'Innerhalb der n?§chsten 30 Tage', 'Wunschtermin: 18.01.2021',\n",
       "       'In mehr als 6 Monaten', 'Wunschtermin: 08.01.2021',\n",
       "       'Wunschtermin: 11.12.2020', 'Wunschtermin: 31.01.2021',\n",
       "       'Wunschtermin: 22.02.2021', 'Wunschtermin: 04.02.2021',\n",
       "       'Wunschtermin: 15.01.2021', 'Wunschtermin: 30.11.2020',\n",
       "       'Wunschtermin: 08.02.2021', 'Wunschtermin: 23.12.2020',\n",
       "       'Wunschtermin: 19.01.2021', 'Wunschtermin: 01.01.2021',\n",
       "       'Wunschtermin: 05.01.2021', 'Wunschtermin: 07.12.2020'],\n",
       "      dtype=object)"
      ]
     },
     "execution_count": 120,
     "metadata": {},
     "output_type": "execute_result"
    }
   ],
   "source": [
    "data_useful.target_date.unique()"
   ]
  },
  {
   "cell_type": "markdown",
   "metadata": {},
   "source": [
    "- target_date field have mainly 4 categories- Zeitnah', 'In 3 bis 6 Monaten', 'In den n?§chsten 3 Monaten' and 'Innerhalb der n?§chsten 30 Tage'. However in some cases user mentions a particular date.\n",
    "\n",
    "- We can derive the duration for these values with the help of createdAt and make these entries consistent with the major categories   "
   ]
  },
  {
   "cell_type": "code",
   "execution_count": 9,
   "metadata": {},
   "outputs": [
    {
     "data": {
      "text/plain": [
       "array(['Zeitnah', 'In 3 bis 6 Monaten', 'In den n?§chsten 3 Monaten',\n",
       "       'Innerhalb der n?§chsten 30 Tage', 'In mehr als 6 Monaten'],\n",
       "      dtype=object)"
      ]
     },
     "execution_count": 9,
     "metadata": {},
     "output_type": "execute_result"
    }
   ],
   "source": [
    "data_useful.createdAt = pd.to_datetime(data_useful.createdAt)\n",
    "l = []\n",
    "for i in range(len(data_useful)):\n",
    "    if data_useful.target_date[i].split(':')[0] == 'Wunschtermin':\n",
    "        d = (pd.to_datetime(data_useful.target_date[i].split(':')[1].strip())-pd.to_datetime(data_useful.createdAt[i])).days \n",
    "        s = str(np.where(d<30,'Innerhalb der n?§chsten 30 Tage', np.where(30<d<=90,'In den n?§chsten 3 Monaten','In 3 bis 6 Monaten')))\n",
    "        l.append(s)\n",
    "    else:\n",
    "        l.append(data_useful.target_date[i])\n",
    "data_useful['target_date_modified'] = pd.Series(l)\n",
    "data_useful.target_date_modified.unique()                "
   ]
  },
  {
   "cell_type": "markdown",
   "metadata": {},
   "source": [
    "- as we created modified target_date let's explore the relationship with serviceID."
   ]
  },
  {
   "cell_type": "code",
   "execution_count": 36,
   "metadata": {},
   "outputs": [
    {
     "name": "stdout",
     "output_type": "stream",
     "text": [
      "serviceId                            1060      3020      7010      7060  \\\n",
      "target_date_modified                                                      \n",
      "In 3 bis 6 Monaten               0.003155  0.000000  0.009464  0.006309   \n",
      "In den n?§chsten 3 Monaten       0.020505  0.001577  0.100946  0.042587   \n",
      "In mehr als 6 Monaten            0.001577  0.000000  0.003155  0.000000   \n",
      "Innerhalb der n?§chsten 30 Tage  0.001577  0.001577  0.052050  0.025237   \n",
      "Zeitnah                          0.042587  0.009464  0.152997  0.053628   \n",
      "All                              0.069401  0.012618  0.318612  0.127760   \n",
      "\n",
      "serviceId                            8130      9010     10010     12070  \\\n",
      "target_date_modified                                                      \n",
      "In 3 bis 6 Monaten               0.018927  0.009464  0.012618  0.001577   \n",
      "In den n?§chsten 3 Monaten       0.023659  0.023659  0.058360  0.009464   \n",
      "In mehr als 6 Monaten            0.003155  0.000000  0.003155  0.001577   \n",
      "Innerhalb der n?§chsten 30 Tage  0.012618  0.009464  0.007886  0.003155   \n",
      "Zeitnah                          0.028391  0.135647  0.055205  0.023659   \n",
      "All                              0.086751  0.178233  0.137224  0.039432   \n",
      "\n",
      "serviceId                           12130       All  \n",
      "target_date_modified                                 \n",
      "In 3 bis 6 Monaten               0.001577  0.063091  \n",
      "In den n?§chsten 3 Monaten       0.004732  0.285489  \n",
      "In mehr als 6 Monaten            0.000000  0.012618  \n",
      "Innerhalb der n?§chsten 30 Tage  0.006309  0.119874  \n",
      "Zeitnah                          0.017350  0.518927  \n",
      "All                              0.029968  1.000000  \n"
     ]
    },
    {
     "data": {
      "text/plain": [
       "<seaborn.axisgrid.FacetGrid at 0x7feb749cae48>"
      ]
     },
     "execution_count": 36,
     "metadata": {},
     "output_type": "execute_result"
    },
    {
     "data": {
      "image/png": "[encoded data removed]",
      "text/plain": [
       "<Figure size 360x360 with 1 Axes>"
      ]
     },
     "metadata": {
      "needs_background": "light"
     },
     "output_type": "display_data"
    }
   ],
   "source": [
    "table = pd.crosstab(data_useful['target_date_modified'],data_useful['serviceId'],margins=True,normalize=True)\n",
    "print(table)\n",
    "sns.catplot(x=\"target_date_modified\", y=\"serviceId\", kind=\"bar\", data=data_useful)"
   ]
  },
  {
   "cell_type": "markdown",
   "metadata": {},
   "source": [
    "- using this field as relative distribution varies accross different serviceId and can be a potential predictor\n",
    "- Will do onehotencoding for target_date_modified and tradeClassificationType to use in classifier"
   ]
  },
  {
   "cell_type": "code",
   "execution_count": 64,
   "metadata": {},
   "outputs": [
    {
     "data": {
      "text/html": [
       "<div>\n",
       "<style scoped>\n",
       "    .dataframe tbody tr th:only-of-type {\n",
       "        vertical-align: middle;\n",
       "    }\n",
       "\n",
       "    .dataframe tbody tr th {\n",
       "        vertical-align: top;\n",
       "    }\n",
       "\n",
       "    .dataframe thead th {\n",
       "        text-align: right;\n",
       "    }\n",
       "</style>\n",
       "<table border=\"1\" class=\"dataframe\">\n",
       "  <thead>\n",
       "    <tr style=\"text-align: right;\">\n",
       "      <th></th>\n",
       "      <th>target_date_modified_In 3 bis 6 Monaten</th>\n",
       "      <th>target_date_modified_In den n?§chsten 3 Monaten</th>\n",
       "      <th>target_date_modified_In mehr als 6 Monaten</th>\n",
       "      <th>target_date_modified_Innerhalb der n?§chsten 30 Tage</th>\n",
       "      <th>target_date_modified_Zeitnah</th>\n",
       "      <th>tradeClassificationType_1.0</th>\n",
       "      <th>tradeClassificationType_2.0</th>\n",
       "      <th>tradeClassificationType_4.0</th>\n",
       "    </tr>\n",
       "  </thead>\n",
       "  <tbody>\n",
       "    <tr>\n",
       "      <th>0</th>\n",
       "      <td>0</td>\n",
       "      <td>0</td>\n",
       "      <td>0</td>\n",
       "      <td>0</td>\n",
       "      <td>1</td>\n",
       "      <td>1</td>\n",
       "      <td>0</td>\n",
       "      <td>0</td>\n",
       "    </tr>\n",
       "    <tr>\n",
       "      <th>1</th>\n",
       "      <td>1</td>\n",
       "      <td>0</td>\n",
       "      <td>0</td>\n",
       "      <td>0</td>\n",
       "      <td>0</td>\n",
       "      <td>0</td>\n",
       "      <td>0</td>\n",
       "      <td>1</td>\n",
       "    </tr>\n",
       "  </tbody>\n",
       "</table>\n",
       "</div>"
      ],
      "text/plain": [
       "   target_date_modified_In 3 bis 6 Monaten  \\\n",
       "0                                        0   \n",
       "1                                        1   \n",
       "\n",
       "   target_date_modified_In den n?§chsten 3 Monaten  \\\n",
       "0                                                0   \n",
       "1                                                0   \n",
       "\n",
       "   target_date_modified_In mehr als 6 Monaten  \\\n",
       "0                                           0   \n",
       "1                                           0   \n",
       "\n",
       "   target_date_modified_Innerhalb der n?§chsten 30 Tage  \\\n",
       "0                                                  0      \n",
       "1                                                  0      \n",
       "\n",
       "   target_date_modified_Zeitnah  tradeClassificationType_1.0  \\\n",
       "0                             1                            1   \n",
       "1                             0                            0   \n",
       "\n",
       "   tradeClassificationType_2.0  tradeClassificationType_4.0  \n",
       "0                            0                            0  \n",
       "1                            0                            1  "
      ]
     },
     "execution_count": 64,
     "metadata": {},
     "output_type": "execute_result"
    }
   ],
   "source": [
    "data_useful['tradeClassificationType'] = data_useful['tradeClassificationType'].astype('category')\n",
    "dummy = pd.get_dummies(data_useful[['target_date_modified','tradeClassificationType']])\n",
    "dummy.head(2)"
   ]
  },
  {
   "cell_type": "markdown",
   "metadata": {},
   "source": [
    "#### process and encoding target - serviceId"
   ]
  },
  {
   "cell_type": "code",
   "execution_count": 15,
   "metadata": {},
   "outputs": [
    {
     "data": {
      "text/plain": [
       "2    202\n",
       "5    113\n",
       "6     87\n",
       "3     81\n",
       "4     55\n",
       "0     44\n",
       "7     25\n",
       "8     19\n",
       "1      8\n",
       "Name: serviceId_coded, dtype: int64"
      ]
     },
     "execution_count": 15,
     "metadata": {},
     "output_type": "execute_result"
    }
   ],
   "source": [
    "target = np.sort(data_useful['serviceId'].unique())\n",
    "target\n",
    "dic = {}\n",
    "for i,j in enumerate(list(target)):\n",
    "    dic[j] = i\n",
    "data_useful['serviceId_coded'] = [dic[i] for i in data_useful['serviceId'].values] \n",
    "data_useful['serviceId_coded'] = data_useful['serviceId_coded'].astype('category')\n",
    "data_useful['serviceId_coded'].value_counts()"
   ]
  },
  {
   "cell_type": "markdown",
   "metadata": {},
   "source": [
    "### The next pipeline will be using FastText based NLP + benchmark classifier"
   ]
  },
  {
   "cell_type": "code",
   "execution_count": 32,
   "metadata": {},
   "outputs": [
    {
     "name": "stdout",
     "output_type": "stream",
     "text": [
      "(634, 100)\n"
     ]
    },
    {
     "data": {
      "text/html": [
       "<div>\n",
       "<style scoped>\n",
       "    .dataframe tbody tr th:only-of-type {\n",
       "        vertical-align: middle;\n",
       "    }\n",
       "\n",
       "    .dataframe tbody tr th {\n",
       "        vertical-align: top;\n",
       "    }\n",
       "\n",
       "    .dataframe thead th {\n",
       "        text-align: right;\n",
       "    }\n",
       "</style>\n",
       "<table border=\"1\" class=\"dataframe\">\n",
       "  <thead>\n",
       "    <tr style=\"text-align: right;\">\n",
       "      <th></th>\n",
       "      <th>emb_1</th>\n",
       "      <th>emb_2</th>\n",
       "      <th>emb_3</th>\n",
       "      <th>emb_4</th>\n",
       "      <th>emb_5</th>\n",
       "      <th>emb_6</th>\n",
       "      <th>emb_7</th>\n",
       "      <th>emb_8</th>\n",
       "      <th>emb_9</th>\n",
       "      <th>emb_10</th>\n",
       "      <th>...</th>\n",
       "      <th>emb_91</th>\n",
       "      <th>emb_92</th>\n",
       "      <th>emb_93</th>\n",
       "      <th>emb_94</th>\n",
       "      <th>emb_95</th>\n",
       "      <th>emb_96</th>\n",
       "      <th>emb_97</th>\n",
       "      <th>emb_98</th>\n",
       "      <th>emb_99</th>\n",
       "      <th>emb_100</th>\n",
       "    </tr>\n",
       "  </thead>\n",
       "  <tbody>\n",
       "    <tr>\n",
       "      <th>0</th>\n",
       "      <td>0.169733</td>\n",
       "      <td>-0.263561</td>\n",
       "      <td>0.54202</td>\n",
       "      <td>-0.141467</td>\n",
       "      <td>0.087057</td>\n",
       "      <td>-0.538646</td>\n",
       "      <td>-0.176393</td>\n",
       "      <td>-0.29135</td>\n",
       "      <td>0.30833</td>\n",
       "      <td>-0.303533</td>\n",
       "      <td>...</td>\n",
       "      <td>-0.160147</td>\n",
       "      <td>-0.469023</td>\n",
       "      <td>-0.055718</td>\n",
       "      <td>-0.222184</td>\n",
       "      <td>0.070504</td>\n",
       "      <td>0.038511</td>\n",
       "      <td>0.602806</td>\n",
       "      <td>-0.450886</td>\n",
       "      <td>0.115621</td>\n",
       "      <td>0.664572</td>\n",
       "    </tr>\n",
       "  </tbody>\n",
       "</table>\n",
       "<p>1 rows × 100 columns</p>\n",
       "</div>"
      ],
      "text/plain": [
       "      emb_1     emb_2    emb_3     emb_4     emb_5     emb_6     emb_7  \\\n",
       "0  0.169733 -0.263561  0.54202 -0.141467  0.087057 -0.538646 -0.176393   \n",
       "\n",
       "     emb_8    emb_9    emb_10  ...    emb_91    emb_92    emb_93    emb_94  \\\n",
       "0 -0.29135  0.30833 -0.303533  ... -0.160147 -0.469023 -0.055718 -0.222184   \n",
       "\n",
       "     emb_95    emb_96    emb_97    emb_98    emb_99   emb_100  \n",
       "0  0.070504  0.038511  0.602806 -0.450886  0.115621  0.664572  \n",
       "\n",
       "[1 rows x 100 columns]"
      ]
     },
     "execution_count": 32,
     "metadata": {},
     "output_type": "execute_result"
    }
   ],
   "source": [
    "vocab = data_useful['composite_text']\n",
    "mod = gensim.models.FastText(data_useful['clean_txt'],size = 100,min_count=1)\n",
    "fast_feat = pd.DataFrame(columns = range(100))\n",
    "for i in range(len(data_useful)):\n",
    "    fast_feat = fast_feat.append(pd.Series(np.mean(np.array([mod.wv.get_vector(w) for w in data_useful['clean_txt'][i]]),axis=0)),ignore_index=True)\n",
    "fast_feat.columns = ['emb_%s' %(c) for c in range(1,101)]\n",
    "print(fast_feat.shape)\n",
    "fast_feat.head(1)"
   ]
  },
  {
   "cell_type": "markdown",
   "metadata": {},
   "source": [
    "### Final model data with all features\n",
    "\n",
    "-  Splitting training(85%) and validation(15%)"
   ]
  },
  {
   "cell_type": "code",
   "execution_count": 65,
   "metadata": {},
   "outputs": [
    {
     "name": "stdout",
     "output_type": "stream",
     "text": [
      "(538, 108) (96, 108) (538,) (96,)\n"
     ]
    }
   ],
   "source": [
    "mod_data = pd.concat([dummy,fast_feat,data_useful['serviceId_coded']], axis=1)\n",
    "train_X,validation_X,train_Y,validation_Y = train_test_split(mod_data.drop('serviceId_coded',axis=1),mod_data['serviceId_coded'],test_size = 0.15, random_state = 20)\n",
    "print(train_X.shape,validation_X.shape,train_Y.shape,validation_Y.shape)"
   ]
  },
  {
   "cell_type": "markdown",
   "metadata": {},
   "source": [
    "##### Now we are ready to build model.This is a multi-classification problem.There are many m/c learning techniques- Decision Tree,Random Forest,Boosing techniques(GBM,XGBoost etc.),SVM etc. Here we will choose XGBoost as our algorithm.\n",
    "\n",
    "##### XGBoost is also called regularized Gradient Boosting(an ensemble decision tree based algorithm) and in python it comes as an algorithm under sklearn package. XGBoost provides a parallel tree boosting (also known as GBDT, GBM) that solve many data science problems in a fast and accurate way. The same code runs on major distributed environment (Hadoop, SGE, MPI) and can solve problems beyond billions of examples."
   ]
  },
  {
   "cell_type": "markdown",
   "metadata": {},
   "source": [
    "#### FastText + base XGBoost classifier"
   ]
  },
  {
   "cell_type": "code",
   "execution_count": 79,
   "metadata": {},
   "outputs": [
    {
     "name": "stdout",
     "output_type": "stream",
     "text": [
      "[0]\tvalidation_0-mlogloss:2.10838\tvalidation_1-mlogloss:2.12547\n",
      "Multiple eval metrics have been passed: 'validation_1-mlogloss' will be used for early stopping.\n",
      "\n",
      "Will train until validation_1-mlogloss hasn't improved in 50 rounds.\n",
      "[10]\tvalidation_0-mlogloss:1.53922\tvalidation_1-mlogloss:1.70611\n",
      "[20]\tvalidation_0-mlogloss:1.2111\tvalidation_1-mlogloss:1.48587\n",
      "[30]\tvalidation_0-mlogloss:0.981947\tvalidation_1-mlogloss:1.35682\n",
      "[40]\tvalidation_0-mlogloss:0.824536\tvalidation_1-mlogloss:1.27289\n",
      "[50]\tvalidation_0-mlogloss:0.703433\tvalidation_1-mlogloss:1.22001\n",
      "[60]\tvalidation_0-mlogloss:0.613106\tvalidation_1-mlogloss:1.18657\n",
      "[70]\tvalidation_0-mlogloss:0.540828\tvalidation_1-mlogloss:1.16336\n",
      "[80]\tvalidation_0-mlogloss:0.483189\tvalidation_1-mlogloss:1.15052\n",
      "[90]\tvalidation_0-mlogloss:0.435371\tvalidation_1-mlogloss:1.14141\n",
      "[100]\tvalidation_0-mlogloss:0.395418\tvalidation_1-mlogloss:1.13059\n",
      "[110]\tvalidation_0-mlogloss:0.360133\tvalidation_1-mlogloss:1.12314\n",
      "[120]\tvalidation_0-mlogloss:0.330285\tvalidation_1-mlogloss:1.1219\n",
      "[130]\tvalidation_0-mlogloss:0.305411\tvalidation_1-mlogloss:1.11701\n",
      "[140]\tvalidation_0-mlogloss:0.283319\tvalidation_1-mlogloss:1.12245\n",
      "[150]\tvalidation_0-mlogloss:0.263634\tvalidation_1-mlogloss:1.12312\n",
      "[160]\tvalidation_0-mlogloss:0.245746\tvalidation_1-mlogloss:1.12793\n",
      "[170]\tvalidation_0-mlogloss:0.229206\tvalidation_1-mlogloss:1.12967\n",
      "[180]\tvalidation_0-mlogloss:0.215123\tvalidation_1-mlogloss:1.13345\n",
      "Stopping. Best iteration:\n",
      "[130]\tvalidation_0-mlogloss:0.305411\tvalidation_1-mlogloss:1.11701\n",
      "\n"
     ]
    }
   ],
   "source": [
    "xgb_model = xgb.XGBClassifier(n_estimators= 500, max_depth = 6, learning_rate=0.04,subsample=0.7,colsample_bytree=0.8,seed=100,objective= 'mlogloss',silent = False,tree_method = 'auto')\n",
    "\n",
    "eval_set  = [(train_X,train_Y), (validation_X,validation_Y)]\n",
    "\n",
    "mod_xgb_fast = xgb_model.fit(train_X, train_Y,eval_set=eval_set,verbose = 10,early_stopping_rounds=50,\n",
    "        eval_metric=\"mlogloss\")"
   ]
  },
  {
   "cell_type": "markdown",
   "metadata": {},
   "source": [
    "#### let's explore the result- accuracy and other stats"
   ]
  },
  {
   "cell_type": "code",
   "execution_count": 47,
   "metadata": {},
   "outputs": [
    {
     "name": "stdout",
     "output_type": "stream",
     "text": [
      "[[ 0  9  0  0  0  0  0  0]\n",
      " [ 1 28  1  0  0  0  0  0]\n",
      " [ 0 11  2  0  0  0  0  0]\n",
      " [ 0  0  0  3  0  2  0  0]\n",
      " [ 0  0  0  0 20  0  0  0]\n",
      " [ 0  0  0  1  0  7  0  0]\n",
      " [ 0  0  0  0  0  6  1  0]\n",
      " [ 0  0  0  3  0  1  0  0]]\n",
      "              precision    recall  f1-score   support\n",
      "\n",
      "           0      0.000     0.000     0.000         9\n",
      "           2      0.583     0.933     0.718        30\n",
      "           3      0.667     0.154     0.250        13\n",
      "           4      0.429     0.600     0.500         5\n",
      "           5      1.000     1.000     1.000        20\n",
      "           6      0.438     0.875     0.583         8\n",
      "           7      1.000     0.143     0.250         7\n",
      "           8      0.000     0.000     0.000         4\n",
      "\n",
      "    accuracy                          0.635        96\n",
      "   macro avg      0.515     0.463     0.413        96\n",
      "weighted avg      0.613     0.635     0.559        96\n",
      "\n"
     ]
    }
   ],
   "source": [
    "pred_y = mod_xgb_fast.predict(validation_X)\n",
    "print(metrics.confusion_matrix(validation_Y,pred_y))\n",
    "\n",
    "# Print the precision and recall, among other metrics\n",
    "print(metrics.classification_report(validation_Y, pred_y, digits=3))"
   ]
  },
  {
   "cell_type": "markdown",
   "metadata": {},
   "source": [
    "- The benchmark FastText + base XGBoost classifier gave us accuracy of 0.635"
   ]
  },
  {
   "cell_type": "markdown",
   "metadata": {},
   "source": [
    "#### Word2Vec + base XGBoost classifier"
   ]
  },
  {
   "cell_type": "code",
   "execution_count": 33,
   "metadata": {},
   "outputs": [
    {
     "name": "stdout",
     "output_type": "stream",
     "text": [
      "(634, 100)\n"
     ]
    },
    {
     "data": {
      "text/html": [
       "<div>\n",
       "<style scoped>\n",
       "    .dataframe tbody tr th:only-of-type {\n",
       "        vertical-align: middle;\n",
       "    }\n",
       "\n",
       "    .dataframe tbody tr th {\n",
       "        vertical-align: top;\n",
       "    }\n",
       "\n",
       "    .dataframe thead th {\n",
       "        text-align: right;\n",
       "    }\n",
       "</style>\n",
       "<table border=\"1\" class=\"dataframe\">\n",
       "  <thead>\n",
       "    <tr style=\"text-align: right;\">\n",
       "      <th></th>\n",
       "      <th>emb_1</th>\n",
       "      <th>emb_2</th>\n",
       "      <th>emb_3</th>\n",
       "      <th>emb_4</th>\n",
       "      <th>emb_5</th>\n",
       "      <th>emb_6</th>\n",
       "      <th>emb_7</th>\n",
       "      <th>emb_8</th>\n",
       "      <th>emb_9</th>\n",
       "      <th>emb_10</th>\n",
       "      <th>...</th>\n",
       "      <th>emb_91</th>\n",
       "      <th>emb_92</th>\n",
       "      <th>emb_93</th>\n",
       "      <th>emb_94</th>\n",
       "      <th>emb_95</th>\n",
       "      <th>emb_96</th>\n",
       "      <th>emb_97</th>\n",
       "      <th>emb_98</th>\n",
       "      <th>emb_99</th>\n",
       "      <th>emb_100</th>\n",
       "    </tr>\n",
       "  </thead>\n",
       "  <tbody>\n",
       "    <tr>\n",
       "      <th>0</th>\n",
       "      <td>0.010038</td>\n",
       "      <td>-0.010688</td>\n",
       "      <td>-0.005885</td>\n",
       "      <td>-0.004623</td>\n",
       "      <td>-0.001823</td>\n",
       "      <td>0.001539</td>\n",
       "      <td>0.001909</td>\n",
       "      <td>-0.004098</td>\n",
       "      <td>0.002211</td>\n",
       "      <td>0.008223</td>\n",
       "      <td>...</td>\n",
       "      <td>-0.010339</td>\n",
       "      <td>0.005543</td>\n",
       "      <td>-0.00496</td>\n",
       "      <td>-0.006831</td>\n",
       "      <td>-0.009509</td>\n",
       "      <td>0.011986</td>\n",
       "      <td>0.00564</td>\n",
       "      <td>-0.010914</td>\n",
       "      <td>0.0002</td>\n",
       "      <td>0.00683</td>\n",
       "    </tr>\n",
       "  </tbody>\n",
       "</table>\n",
       "<p>1 rows × 100 columns</p>\n",
       "</div>"
      ],
      "text/plain": [
       "      emb_1     emb_2     emb_3     emb_4     emb_5     emb_6     emb_7  \\\n",
       "0  0.010038 -0.010688 -0.005885 -0.004623 -0.001823  0.001539  0.001909   \n",
       "\n",
       "      emb_8     emb_9    emb_10  ...    emb_91    emb_92   emb_93    emb_94  \\\n",
       "0 -0.004098  0.002211  0.008223  ... -0.010339  0.005543 -0.00496 -0.006831   \n",
       "\n",
       "     emb_95    emb_96   emb_97    emb_98  emb_99  emb_100  \n",
       "0 -0.009509  0.011986  0.00564 -0.010914  0.0002  0.00683  \n",
       "\n",
       "[1 rows x 100 columns]"
      ]
     },
     "execution_count": 33,
     "metadata": {},
     "output_type": "execute_result"
    }
   ],
   "source": [
    "mod = gensim.models.Word2Vec(data_useful['clean_txt'],size = 100,min_count=1)\n",
    "w2_v_feat = pd.DataFrame(columns = range(100))\n",
    "for i in range(len(data_useful)):\n",
    "    w2_v_feat = w2_v_feat.append(pd.Series(np.mean(np.array([mod.wv.get_vector(w) for w in data_useful['clean_txt'][i]]),axis=0)),ignore_index=True)\n",
    "w2_v_feat.columns = ['emb_%s' %(c) for c in range(1,101)]\n",
    "print(w2_v_feat.shape)\n",
    "w2_v_feat.head(1)"
   ]
  },
  {
   "cell_type": "code",
   "execution_count": 49,
   "metadata": {},
   "outputs": [
    {
     "name": "stdout",
     "output_type": "stream",
     "text": [
      "(538, 106) (96, 106) (538,) (96,)\n",
      "[0]\tvalidation_0-merror:0.165428\tvalidation_1-merror:0.364583\n",
      "Multiple eval metrics have been passed: 'validation_1-merror' will be used for early stopping.\n",
      "\n",
      "Will train until validation_1-merror hasn't improved in 50 rounds.\n",
      "[10]\tvalidation_0-merror:0.033457\tvalidation_1-merror:0.34375\n",
      "[20]\tvalidation_0-merror:0.024164\tvalidation_1-merror:0.3125\n",
      "[30]\tvalidation_0-merror:0.011152\tvalidation_1-merror:0.322917\n",
      "[40]\tvalidation_0-merror:0.003717\tvalidation_1-merror:0.3125\n",
      "[50]\tvalidation_0-merror:0\tvalidation_1-merror:0.3125\n",
      "Stopping. Best iteration:\n",
      "[3]\tvalidation_0-merror:0.076208\tvalidation_1-merror:0.302083\n",
      "\n",
      "[[ 1  6  2  0  0  0  0  0]\n",
      " [ 0 28  2  0  0  0  0  0]\n",
      " [ 0  7  6  0  0  0  0  0]\n",
      " [ 0  0  0  5  0  0  0  0]\n",
      " [ 0  0  0  0 20  0  0  0]\n",
      " [ 0  0  0  1  0  7  0  0]\n",
      " [ 0  0  0  1  0  6  0  0]\n",
      " [ 0  0  0  1  0  3  0  0]]\n",
      "              precision    recall  f1-score   support\n",
      "\n",
      "           0      1.000     0.111     0.200         9\n",
      "           2      0.683     0.933     0.789        30\n",
      "           3      0.600     0.462     0.522        13\n",
      "           4      0.625     1.000     0.769         5\n",
      "           5      1.000     1.000     1.000        20\n",
      "           6      0.438     0.875     0.583         8\n",
      "           7      0.000     0.000     0.000         7\n",
      "           8      0.000     0.000     0.000         4\n",
      "\n",
      "    accuracy                          0.698        96\n",
      "   macro avg      0.543     0.548     0.483        96\n",
      "weighted avg      0.666     0.698     0.633        96\n",
      "\n"
     ]
    }
   ],
   "source": [
    "mod_data = pd.concat([dummy,w2_v_feat,data_useful['serviceId_coded']], axis=1)\n",
    "train_X,validation_X,train_Y,validation_Y = train_test_split(mod_data.drop('serviceId_coded',axis=1),mod_data['serviceId_coded'],test_size = 0.15, random_state = 20)\n",
    "print(train_X.shape,validation_X.shape,train_Y.shape,validation_Y.shape)\n",
    "xgb_model = xgb.XGBClassifier(n_estimators= 500, max_depth = 7, learning_rate=0.04,subsample=0.8,colsample_bytree=0.7,seed=100,objective= 'mlogloss',silent = False,tree_method = 'auto')\n",
    "\n",
    "eval_set  = [(train_X,train_Y), (validation_X,validation_Y)]\n",
    "\n",
    "mod_xgb_w2v = xgb_model.fit(train_X, train_Y,eval_set=eval_set,verbose = 10,early_stopping_rounds=50,\n",
    "        eval_metric=\"merror\")\n",
    "pred_y = mod_xgb_w2v.predict(validation_X)\n",
    "print(metrics.confusion_matrix(validation_Y,pred_y))\n",
    "\n",
    "# Print the precision and recall, among other metrics\n",
    "print(metrics.classification_report(validation_Y, pred_y, digits=3))"
   ]
  },
  {
   "cell_type": "markdown",
   "metadata": {},
   "source": [
    "- The benchmark w2vec + base XGBoost classifier gave us accuracy of 0.698\n",
    "- Keeping all other components same w2vec performance is better than FastText. So building the final classifier using w2vec based NLP embedding method"
   ]
  },
  {
   "cell_type": "markdown",
   "metadata": {},
   "source": [
    "### Fine tuned w2vec + XGBoost classifier"
   ]
  },
  {
   "cell_type": "markdown",
   "metadata": {},
   "source": [
    "#### First it's a good practice to normalize the embedding matrix. It will server following two purposes.\n",
    "- a) L2 is invariant under rotation and hence better for gradient-based learning methods.\n",
    "- b) It will reduce the correlation amonst vectors"
   ]
  },
  {
   "cell_type": "code",
   "execution_count": 51,
   "metadata": {},
   "outputs": [
    {
     "name": "stdout",
     "output_type": "stream",
     "text": [
      "         0         1         2         3         4         5         6   \\\n",
      "0  1.000000 -0.910003 -0.849078 -0.716693 -0.334680  0.417825  0.585854   \n",
      "1 -0.910003  1.000000  0.835835  0.755867  0.327040 -0.377602 -0.573092   \n",
      "2 -0.849078  0.835835  1.000000  0.620569  0.319602 -0.354850 -0.557245   \n",
      "\n",
      "         7         8         9   ...        90        91        92        93  \\\n",
      "0 -0.702578  0.673694  0.874056  ... -0.874498  0.824601 -0.781076 -0.849678   \n",
      "1  0.734654 -0.666681 -0.897466  ...  0.870039 -0.806960  0.793606  0.862566   \n",
      "2  0.671484 -0.620781 -0.823440  ...  0.793401 -0.751438  0.737482  0.805247   \n",
      "\n",
      "         94        95        96        97        98        99  \n",
      "0 -0.878842  0.877924  0.823257 -0.908652 -0.291450  0.854652  \n",
      "1  0.901158 -0.914645 -0.846166  0.911034  0.240010 -0.860737  \n",
      "2  0.841379 -0.829742 -0.793063  0.838218  0.227683 -0.794977  \n",
      "\n",
      "[3 rows x 100 columns]\n"
     ]
    },
    {
     "data": {
      "text/plain": [
       "<AxesSubplot:>"
      ]
     },
     "execution_count": 51,
     "metadata": {},
     "output_type": "execute_result"
    },
    {
     "data": {
      "image/png": "[encoded data removed]",
      "text/plain": [
       "<Figure size 432x288 with 2 Axes>"
      ]
     },
     "metadata": {
      "needs_background": "light"
     },
     "output_type": "display_data"
    }
   ],
   "source": [
    "correlation_matrix = np.corrcoef(w2_v_feat.T)\n",
    "correlation_matrix=pd.DataFrame(correlation_matrix)\n",
    "print(correlation_matrix.head(3))\n",
    "# plt.imshow(correlation_matrix,cmap='hot',interpolation='nearest',)\n",
    "sns.heatmap(correlation_matrix, \n",
    "        xticklabels=correlation_matrix.columns,\n",
    "        yticklabels=correlation_matrix.columns)"
   ]
  },
  {
   "cell_type": "markdown",
   "metadata": {},
   "source": [
    "- The vector components are highly correlated"
   ]
  },
  {
   "cell_type": "code",
   "execution_count": 268,
   "metadata": {},
   "outputs": [
    {
     "name": "stdout",
     "output_type": "stream",
     "text": [
      "         0         1         2         3         4         5         6   \\\n",
      "0  1.000000  0.464971  0.454029  0.295764  0.350449  0.344064  0.268185   \n",
      "1  0.464971  1.000000  0.347830  0.308931  0.277610  0.343692  0.429499   \n",
      "2  0.454029  0.347830  1.000000  0.308518  0.217794  0.323172  0.357525   \n",
      "\n",
      "         7         8         9   ...        90        91        92        93  \\\n",
      "0  0.559103  0.581747  0.439950  ... -0.015855  0.032038 -0.065549  0.083791   \n",
      "1  0.245135  0.314149  0.394233  ... -0.045869 -0.023704 -0.033788  0.006492   \n",
      "2  0.270004  0.515534  0.445695  ... -0.063217 -0.016739  0.009126  0.071270   \n",
      "\n",
      "         94        95        96        97        98        99  \n",
      "0  0.033305 -0.016944 -0.026445 -0.004512  0.010660  0.005069  \n",
      "1  0.028819 -0.028785 -0.023963  0.022281  0.026168  0.027260  \n",
      "2  0.001476  0.022939  0.046242  0.023355  0.007729  0.053704  \n",
      "\n",
      "[3 rows x 100 columns]\n"
     ]
    },
    {
     "data": {
      "text/plain": [
       "<AxesSubplot:>"
      ]
     },
     "execution_count": 268,
     "metadata": {},
     "output_type": "execute_result"
    },
    {
     "data": {
      "image/png": "[encoded data removed]",
      "text/plain": [
       "<Figure size 432x288 with 2 Axes>"
      ]
     },
     "metadata": {
      "needs_background": "light"
     },
     "output_type": "display_data"
    }
   ],
   "source": [
    "emb_normalized = sklearn.preprocessing.normalize(w2_v_feat, norm='l2')\n",
    "correlation_matrix = np.corrcoef(emb_normalized.T)\n",
    "correlation_matrix=pd.DataFrame(correlation_matrix)\n",
    "print(correlation_matrix.head(3))\n",
    "# plt.imshow(correlation_matrix,cmap='hot',interpolation='nearest',)\n",
    "sns.heatmap(correlation_matrix, \n",
    "        xticklabels=correlation_matrix.columns,\n",
    "        yticklabels=correlation_matrix.columns)\n",
    "emb_normalized = pd.DataFrame(emb_normalized)\n",
    "emb_normalized.columns = ['emb_%s' %(c) for c in range(1,101)]"
   ]
  },
  {
   "cell_type": "markdown",
   "metadata": {},
   "source": [
    "- Now the correlation amongst vector components are greatly reduced and will use this normalised data for finetuned classifier"
   ]
  },
  {
   "cell_type": "code",
   "execution_count": 81,
   "metadata": {},
   "outputs": [
    {
     "name": "stdout",
     "output_type": "stream",
     "text": [
      "(538, 108) (96, 108) (538,) (96,)\n"
     ]
    }
   ],
   "source": [
    "mod_data = pd.concat([dummy,emb_normalized,data_useful['serviceId_coded']], axis=1)\n",
    "train_X,validation_X,train_Y,validation_Y = train_test_split(mod_data.drop('serviceId_coded',axis=1),mod_data['serviceId_coded'],test_size = 0.15, random_state = 20)\n",
    "print(train_X.shape,validation_X.shape,train_Y.shape,validation_Y.shape)"
   ]
  },
  {
   "cell_type": "markdown",
   "metadata": {},
   "source": [
    "##### For building this model, as optimization strategy, we try to minimize merror and will monitor the accuracy.\n",
    "\n",
    "##### We will try to train the model with grid search.For time constraint we will vary few key hyper parameters- depth,colsample,min_child_weight and subsample rate of XGB algorithm and will pick the hyper parameter setting,which will give maximum performance(low mlogloss).Of course there are many more hyper parameters we can play with."
   ]
  },
  {
   "cell_type": "code",
   "execution_count": 82,
   "metadata": {},
   "outputs": [
    {
     "name": "stdout",
     "output_type": "stream",
     "text": [
      "Fitting 2 folds for each of 18 candidates, totalling 36 fits\n",
      "[CV] colsample_bytree=0.7, learning_rate=0.04, max_depth=6, min_child_weight=1, subsample=0.7 \n"
     ]
    },
    {
     "name": "stderr",
     "output_type": "stream",
     "text": [
      "[Parallel(n_jobs=1)]: Using backend SequentialBackend with 1 concurrent workers.\n"
     ]
    },
    {
     "name": "stdout",
     "output_type": "stream",
     "text": [
      "[CV]  colsample_bytree=0.7, learning_rate=0.04, max_depth=6, min_child_weight=1, subsample=0.7, total=   1.2s\n",
      "[CV] colsample_bytree=0.7, learning_rate=0.04, max_depth=6, min_child_weight=1, subsample=0.7 \n"
     ]
    },
    {
     "name": "stderr",
     "output_type": "stream",
     "text": [
      "[Parallel(n_jobs=1)]: Done   1 out of   1 | elapsed:    1.2s remaining:    0.0s\n"
     ]
    },
    {
     "name": "stdout",
     "output_type": "stream",
     "text": [
      "[CV]  colsample_bytree=0.7, learning_rate=0.04, max_depth=6, min_child_weight=1, subsample=0.7, total=   1.2s\n",
      "[CV] colsample_bytree=0.7, learning_rate=0.04, max_depth=6, min_child_weight=1, subsample=0.8 \n",
      "[CV]  colsample_bytree=0.7, learning_rate=0.04, max_depth=6, min_child_weight=1, subsample=0.8, total=   1.3s\n",
      "[CV] colsample_bytree=0.7, learning_rate=0.04, max_depth=6, min_child_weight=1, subsample=0.8 \n",
      "[CV]  colsample_bytree=0.7, learning_rate=0.04, max_depth=6, min_child_weight=1, subsample=0.8, total=   1.3s\n",
      "[CV] colsample_bytree=0.7, learning_rate=0.04, max_depth=7, min_child_weight=1, subsample=0.7 \n",
      "[CV]  colsample_bytree=0.7, learning_rate=0.04, max_depth=7, min_child_weight=1, subsample=0.7, total=   1.2s\n",
      "[CV] colsample_bytree=0.7, learning_rate=0.04, max_depth=7, min_child_weight=1, subsample=0.7 \n",
      "[CV]  colsample_bytree=0.7, learning_rate=0.04, max_depth=7, min_child_weight=1, subsample=0.7, total=   1.3s\n",
      "[CV] colsample_bytree=0.7, learning_rate=0.04, max_depth=7, min_child_weight=1, subsample=0.8 \n",
      "[CV]  colsample_bytree=0.7, learning_rate=0.04, max_depth=7, min_child_weight=1, subsample=0.8, total=   1.3s\n",
      "[CV] colsample_bytree=0.7, learning_rate=0.04, max_depth=7, min_child_weight=1, subsample=0.8 \n",
      "[CV]  colsample_bytree=0.7, learning_rate=0.04, max_depth=7, min_child_weight=1, subsample=0.8, total=   1.3s\n",
      "[CV] colsample_bytree=0.7, learning_rate=0.04, max_depth=8, min_child_weight=1, subsample=0.7 \n",
      "[CV]  colsample_bytree=0.7, learning_rate=0.04, max_depth=8, min_child_weight=1, subsample=0.7, total=   1.2s\n",
      "[CV] colsample_bytree=0.7, learning_rate=0.04, max_depth=8, min_child_weight=1, subsample=0.7 \n",
      "[CV]  colsample_bytree=0.7, learning_rate=0.04, max_depth=8, min_child_weight=1, subsample=0.7, total=   1.3s\n",
      "[CV] colsample_bytree=0.7, learning_rate=0.04, max_depth=8, min_child_weight=1, subsample=0.8 \n",
      "[CV]  colsample_bytree=0.7, learning_rate=0.04, max_depth=8, min_child_weight=1, subsample=0.8, total=   1.4s\n",
      "[CV] colsample_bytree=0.7, learning_rate=0.04, max_depth=8, min_child_weight=1, subsample=0.8 \n",
      "[CV]  colsample_bytree=0.7, learning_rate=0.04, max_depth=8, min_child_weight=1, subsample=0.8, total=   1.4s\n",
      "[CV] colsample_bytree=0.8, learning_rate=0.04, max_depth=6, min_child_weight=1, subsample=0.7 \n",
      "[CV]  colsample_bytree=0.8, learning_rate=0.04, max_depth=6, min_child_weight=1, subsample=0.7, total=   1.3s\n",
      "[CV] colsample_bytree=0.8, learning_rate=0.04, max_depth=6, min_child_weight=1, subsample=0.7 \n",
      "[CV]  colsample_bytree=0.8, learning_rate=0.04, max_depth=6, min_child_weight=1, subsample=0.7, total=   1.4s\n",
      "[CV] colsample_bytree=0.8, learning_rate=0.04, max_depth=6, min_child_weight=1, subsample=0.8 \n",
      "[CV]  colsample_bytree=0.8, learning_rate=0.04, max_depth=6, min_child_weight=1, subsample=0.8, total=   1.4s\n",
      "[CV] colsample_bytree=0.8, learning_rate=0.04, max_depth=6, min_child_weight=1, subsample=0.8 \n",
      "[CV]  colsample_bytree=0.8, learning_rate=0.04, max_depth=6, min_child_weight=1, subsample=0.8, total=   1.5s\n",
      "[CV] colsample_bytree=0.8, learning_rate=0.04, max_depth=7, min_child_weight=1, subsample=0.7 \n",
      "[CV]  colsample_bytree=0.8, learning_rate=0.04, max_depth=7, min_child_weight=1, subsample=0.7, total=   1.3s\n",
      "[CV] colsample_bytree=0.8, learning_rate=0.04, max_depth=7, min_child_weight=1, subsample=0.7 \n",
      "[CV]  colsample_bytree=0.8, learning_rate=0.04, max_depth=7, min_child_weight=1, subsample=0.7, total=   1.4s\n",
      "[CV] colsample_bytree=0.8, learning_rate=0.04, max_depth=7, min_child_weight=1, subsample=0.8 \n",
      "[CV]  colsample_bytree=0.8, learning_rate=0.04, max_depth=7, min_child_weight=1, subsample=0.8, total=   1.5s\n",
      "[CV] colsample_bytree=0.8, learning_rate=0.04, max_depth=7, min_child_weight=1, subsample=0.8 \n",
      "[CV]  colsample_bytree=0.8, learning_rate=0.04, max_depth=7, min_child_weight=1, subsample=0.8, total=   1.5s\n",
      "[CV] colsample_bytree=0.8, learning_rate=0.04, max_depth=8, min_child_weight=1, subsample=0.7 \n",
      "[CV]  colsample_bytree=0.8, learning_rate=0.04, max_depth=8, min_child_weight=1, subsample=0.7, total=   1.4s\n",
      "[CV] colsample_bytree=0.8, learning_rate=0.04, max_depth=8, min_child_weight=1, subsample=0.7 \n",
      "[CV]  colsample_bytree=0.8, learning_rate=0.04, max_depth=8, min_child_weight=1, subsample=0.7, total=   1.4s\n",
      "[CV] colsample_bytree=0.8, learning_rate=0.04, max_depth=8, min_child_weight=1, subsample=0.8 \n",
      "[CV]  colsample_bytree=0.8, learning_rate=0.04, max_depth=8, min_child_weight=1, subsample=0.8, total=   1.5s\n",
      "[CV] colsample_bytree=0.8, learning_rate=0.04, max_depth=8, min_child_weight=1, subsample=0.8 \n",
      "[CV]  colsample_bytree=0.8, learning_rate=0.04, max_depth=8, min_child_weight=1, subsample=0.8, total=   1.5s\n",
      "[CV] colsample_bytree=0.9, learning_rate=0.04, max_depth=6, min_child_weight=1, subsample=0.7 \n",
      "[CV]  colsample_bytree=0.9, learning_rate=0.04, max_depth=6, min_child_weight=1, subsample=0.7, total=   1.5s\n",
      "[CV] colsample_bytree=0.9, learning_rate=0.04, max_depth=6, min_child_weight=1, subsample=0.7 \n",
      "[CV]  colsample_bytree=0.9, learning_rate=0.04, max_depth=6, min_child_weight=1, subsample=0.7, total=   1.5s\n",
      "[CV] colsample_bytree=0.9, learning_rate=0.04, max_depth=6, min_child_weight=1, subsample=0.8 \n",
      "[CV]  colsample_bytree=0.9, learning_rate=0.04, max_depth=6, min_child_weight=1, subsample=0.8, total=   1.6s\n",
      "[CV] colsample_bytree=0.9, learning_rate=0.04, max_depth=6, min_child_weight=1, subsample=0.8 \n",
      "[CV]  colsample_bytree=0.9, learning_rate=0.04, max_depth=6, min_child_weight=1, subsample=0.8, total=   1.7s\n",
      "[CV] colsample_bytree=0.9, learning_rate=0.04, max_depth=7, min_child_weight=1, subsample=0.7 \n",
      "[CV]  colsample_bytree=0.9, learning_rate=0.04, max_depth=7, min_child_weight=1, subsample=0.7, total=   1.5s\n",
      "[CV] colsample_bytree=0.9, learning_rate=0.04, max_depth=7, min_child_weight=1, subsample=0.7 \n",
      "[CV]  colsample_bytree=0.9, learning_rate=0.04, max_depth=7, min_child_weight=1, subsample=0.7, total=   1.5s\n",
      "[CV] colsample_bytree=0.9, learning_rate=0.04, max_depth=7, min_child_weight=1, subsample=0.8 \n",
      "[CV]  colsample_bytree=0.9, learning_rate=0.04, max_depth=7, min_child_weight=1, subsample=0.8, total=   1.6s\n",
      "[CV] colsample_bytree=0.9, learning_rate=0.04, max_depth=7, min_child_weight=1, subsample=0.8 \n",
      "[CV]  colsample_bytree=0.9, learning_rate=0.04, max_depth=7, min_child_weight=1, subsample=0.8, total=   1.7s\n",
      "[CV] colsample_bytree=0.9, learning_rate=0.04, max_depth=8, min_child_weight=1, subsample=0.7 \n",
      "[CV]  colsample_bytree=0.9, learning_rate=0.04, max_depth=8, min_child_weight=1, subsample=0.7, total=   1.5s\n",
      "[CV] colsample_bytree=0.9, learning_rate=0.04, max_depth=8, min_child_weight=1, subsample=0.7 \n",
      "[CV]  colsample_bytree=0.9, learning_rate=0.04, max_depth=8, min_child_weight=1, subsample=0.7, total=   1.5s\n",
      "[CV] colsample_bytree=0.9, learning_rate=0.04, max_depth=8, min_child_weight=1, subsample=0.8 \n",
      "[CV]  colsample_bytree=0.9, learning_rate=0.04, max_depth=8, min_child_weight=1, subsample=0.8, total=   1.6s\n",
      "[CV] colsample_bytree=0.9, learning_rate=0.04, max_depth=8, min_child_weight=1, subsample=0.8 \n",
      "[CV]  colsample_bytree=0.9, learning_rate=0.04, max_depth=8, min_child_weight=1, subsample=0.8, total=   1.6s\n"
     ]
    },
    {
     "name": "stderr",
     "output_type": "stream",
     "text": [
      "[Parallel(n_jobs=1)]: Done  36 out of  36 | elapsed:   51.6s finished\n"
     ]
    },
    {
     "data": {
      "text/plain": [
       "XGBClassifier(colsample_bytree=0.7, learning_rate=0.04, max_depth=6,\n",
       "              objective='multi:softprob', seed=100, subsample=0.7)"
      ]
     },
     "execution_count": 82,
     "metadata": {},
     "output_type": "execute_result"
    }
   ],
   "source": [
    "\n",
    "ind_params = {'n_estimators': 300, 'seed':100,\n",
    "             'objective': 'multi:softprob'}\n",
    "ind_params['nthread'] = 4\n",
    "ind_params['eval_metric'] = 'merror'\n",
    "ind_params['num_class'] = data_useful['serviceId_coded'].nunique()\n",
    "xgb_model = xgb.XGBClassifier(ind_params,seed=100)\n",
    "clf = GridSearchCV(xgb_model,\n",
    "                   {'max_depth': [6,7,8],'subsample': [0.7,0.8], 'colsample_bytree': [0.7,0.8,0.9],'min_child_weight': [1,5],'learning_rate': [0.04],\n",
    "                    }, verbose=2,cv=2,scoring='accuracy')\n",
    "clf.fit(train_X, train_Y)\n",
    "clf.best_estimator_"
   ]
  },
  {
   "cell_type": "code",
   "execution_count": 84,
   "metadata": {},
   "outputs": [
    {
     "data": {
      "text/plain": [
       "{'colsample_bytree': 0.7,\n",
       " 'learning_rate': 0.04,\n",
       " 'max_depth': 6,\n",
       " 'min_child_weight': 1,\n",
       " 'subsample': 0.7}"
      ]
     },
     "execution_count": 84,
     "metadata": {},
     "output_type": "execute_result"
    }
   ],
   "source": [
    "clf.best_params_"
   ]
  },
  {
   "cell_type": "markdown",
   "metadata": {},
   "source": [
    "### Final classifier with best hyperparameters"
   ]
  },
  {
   "cell_type": "code",
   "execution_count": 83,
   "metadata": {},
   "outputs": [
    {
     "name": "stdout",
     "output_type": "stream",
     "text": [
      "[0]\tvalidation_0-merror:0.213755\tvalidation_1-merror:0.40625\n",
      "Multiple eval metrics have been passed: 'validation_1-merror' will be used for early stopping.\n",
      "\n",
      "Will train until validation_1-merror hasn't improved in 80 rounds.\n",
      "[10]\tvalidation_0-merror:0.035316\tvalidation_1-merror:0.291667\n",
      "[20]\tvalidation_0-merror:0.016729\tvalidation_1-merror:0.28125\n",
      "[30]\tvalidation_0-merror:0.009294\tvalidation_1-merror:0.270833\n",
      "[40]\tvalidation_0-merror:0.005576\tvalidation_1-merror:0.25\n",
      "[50]\tvalidation_0-merror:0.001859\tvalidation_1-merror:0.239583\n",
      "[60]\tvalidation_0-merror:0.001859\tvalidation_1-merror:0.25\n",
      "[70]\tvalidation_0-merror:0.001859\tvalidation_1-merror:0.25\n",
      "[80]\tvalidation_0-merror:0.001859\tvalidation_1-merror:0.25\n",
      "[90]\tvalidation_0-merror:0.001859\tvalidation_1-merror:0.25\n",
      "[100]\tvalidation_0-merror:0.001859\tvalidation_1-merror:0.239583\n",
      "[110]\tvalidation_0-merror:0.001859\tvalidation_1-merror:0.239583\n",
      "[120]\tvalidation_0-merror:0.001859\tvalidation_1-merror:0.239583\n",
      "[130]\tvalidation_0-merror:0.001859\tvalidation_1-merror:0.229167\n",
      "Stopping. Best iteration:\n",
      "[55]\tvalidation_0-merror:0.001859\tvalidation_1-merror:0.229167\n",
      "\n"
     ]
    }
   ],
   "source": [
    "xgb_model = xgb.XGBClassifier(n_estimators= 500, max_depth = 6, learning_rate=0.04,subsample=0.7,min_child_weight = 1,colsample_bytree=0.7,seed=100,objective= 'merror',silent = False,tree_method = 'auto')\n",
    "\n",
    "eval_set  = [(train_X,train_Y), (validation_X,validation_Y)]\n",
    "\n",
    "mod_bst = xgb_model.fit(train_X, train_Y,eval_set=eval_set,verbose = 10,early_stopping_rounds=80,\n",
    "        eval_metric=\"merror\")"
   ]
  },
  {
   "cell_type": "code",
   "execution_count": 85,
   "metadata": {},
   "outputs": [
    {
     "name": "stdout",
     "output_type": "stream",
     "text": [
      "[[ 3  6  0  0  0  0  0  0]\n",
      " [ 0 29  1  0  0  0  0  0]\n",
      " [ 0  6  7  0  0  0  0  0]\n",
      " [ 0  0  0  4  0  1  0  0]\n",
      " [ 0  0  0  0 20  0  0  0]\n",
      " [ 0  0  0  0  0  8  0  0]\n",
      " [ 0  0  0  2  0  3  2  0]\n",
      " [ 0  0  0  0  0  3  0  1]]\n",
      "              precision    recall  f1-score   support\n",
      "\n",
      "           0      1.000     0.333     0.500         9\n",
      "           2      0.707     0.967     0.817        30\n",
      "           3      0.875     0.538     0.667        13\n",
      "           4      0.667     0.800     0.727         5\n",
      "           5      1.000     1.000     1.000        20\n",
      "           6      0.533     1.000     0.696         8\n",
      "           7      1.000     0.286     0.444         7\n",
      "           8      1.000     0.250     0.400         4\n",
      "\n",
      "    accuracy                          0.771        96\n",
      "   macro avg      0.848     0.647     0.656        96\n",
      "weighted avg      0.835     0.771     0.746        96\n",
      "\n"
     ]
    }
   ],
   "source": [
    "pred_y = mod_bst.predict(validation_X)\n",
    "train_id,validation_id = train_test_split(data[['id']],test_size = 0.15, random_state = 20)\n",
    "validation_dat = pd.DataFrame({'id':validation_id.values,'actual':validation_Y,'prediction':pred_y})\n",
    "inv_dic = {v:k  for k,v in dic.items()}  \n",
    "validation_dat['actual'] = [inv_dic[i] for i in validation_dat['actual'].values] \n",
    "validation_dat['prediction'] = [inv_dic[i] for i in validation_dat['prediction'].values] \n",
    "validation_dat.to_csv('valid_actual_pred.csv',index=False)\n",
    "print(metrics.confusion_matrix(validation_Y,pred_y))\n",
    "\n",
    "# Print the precision and recall, among other metrics\n",
    "print(metrics.classification_report(validation_Y, pred_y, digits=3))"
   ]
  },
  {
   "cell_type": "markdown",
   "metadata": {},
   "source": [
    "### So with further l2 normalization and hyperparameter tuning there is the clissifier accuracy is improved from 69.8% to 77.1%(10.46% improvement)\n",
    "\n",
    "### Also as a imbalance classifier other metrics like f1-score,recall and precision are improved in both classwise and in overall.   "
   ]
  },
  {
   "cell_type": "code",
   "execution_count": 34,
   "metadata": {},
   "outputs": [
    {
     "data": {
      "text/html": [
       "<div>\n",
       "<style scoped>\n",
       "    .dataframe tbody tr th:only-of-type {\n",
       "        vertical-align: middle;\n",
       "    }\n",
       "\n",
       "    .dataframe tbody tr th {\n",
       "        vertical-align: top;\n",
       "    }\n",
       "\n",
       "    .dataframe thead th {\n",
       "        text-align: right;\n",
       "    }\n",
       "</style>\n",
       "<table border=\"1\" class=\"dataframe\">\n",
       "  <thead>\n",
       "    <tr style=\"text-align: right;\">\n",
       "      <th></th>\n",
       "      <th>id</th>\n",
       "      <th>actual</th>\n",
       "      <th>prediction</th>\n",
       "    </tr>\n",
       "  </thead>\n",
       "  <tbody>\n",
       "    <tr>\n",
       "      <th>0</th>\n",
       "      <td>19080202</td>\n",
       "      <td>9010</td>\n",
       "      <td>9010</td>\n",
       "    </tr>\n",
       "    <tr>\n",
       "      <th>1</th>\n",
       "      <td>19063787</td>\n",
       "      <td>7010</td>\n",
       "      <td>7010</td>\n",
       "    </tr>\n",
       "    <tr>\n",
       "      <th>2</th>\n",
       "      <td>14615528</td>\n",
       "      <td>7010</td>\n",
       "      <td>7010</td>\n",
       "    </tr>\n",
       "    <tr>\n",
       "      <th>3</th>\n",
       "      <td>19055877</td>\n",
       "      <td>7010</td>\n",
       "      <td>7010</td>\n",
       "    </tr>\n",
       "    <tr>\n",
       "      <th>4</th>\n",
       "      <td>19067567</td>\n",
       "      <td>7010</td>\n",
       "      <td>7010</td>\n",
       "    </tr>\n",
       "    <tr>\n",
       "      <th>5</th>\n",
       "      <td>18908617</td>\n",
       "      <td>7060</td>\n",
       "      <td>7060</td>\n",
       "    </tr>\n",
       "    <tr>\n",
       "      <th>6</th>\n",
       "      <td>18976157</td>\n",
       "      <td>7010</td>\n",
       "      <td>7010</td>\n",
       "    </tr>\n",
       "    <tr>\n",
       "      <th>7</th>\n",
       "      <td>19074852</td>\n",
       "      <td>10010</td>\n",
       "      <td>10010</td>\n",
       "    </tr>\n",
       "    <tr>\n",
       "      <th>8</th>\n",
       "      <td>18962547</td>\n",
       "      <td>9010</td>\n",
       "      <td>9010</td>\n",
       "    </tr>\n",
       "    <tr>\n",
       "      <th>9</th>\n",
       "      <td>19068247</td>\n",
       "      <td>1060</td>\n",
       "      <td>1060</td>\n",
       "    </tr>\n",
       "  </tbody>\n",
       "</table>\n",
       "</div>"
      ],
      "text/plain": [
       "         id  actual  prediction\n",
       "0  19080202    9010        9010\n",
       "1  19063787    7010        7010\n",
       "2  14615528    7010        7010\n",
       "3  19055877    7010        7010\n",
       "4  19067567    7010        7010\n",
       "5  18908617    7060        7060\n",
       "6  18976157    7010        7010\n",
       "7  19074852   10010       10010\n",
       "8  18962547    9010        9010\n",
       "9  19068247    1060        1060"
      ]
     },
     "execution_count": 34,
     "metadata": {},
     "output_type": "execute_result"
    }
   ],
   "source": [
    "#sneap-peak of prediction\n",
    "validation_dat.head(10)"
   ]
  },
  {
   "cell_type": "markdown",
   "metadata": {},
   "source": [
    "## Variable of Importance"
   ]
  },
  {
   "cell_type": "code",
   "execution_count": 87,
   "metadata": {},
   "outputs": [
    {
     "data": {
      "image/png": "[encoded data removed]",
      "text/plain": [
       "<Figure size 432x288 with 1 Axes>"
      ]
     },
     "metadata": {
      "needs_background": "light"
     },
     "output_type": "display_data"
    },
    {
     "data": {
      "text/plain": [
       "<Figure size 2160x2160 with 0 Axes>"
      ]
     },
     "metadata": {},
     "output_type": "display_data"
    }
   ],
   "source": [
    "#plot feature importance\n",
    "from xgboost import plot_importance\n",
    "from matplotlib import pyplot as plt\n",
    "plot_importance(mod_bst,max_num_features=15)\n",
    "plt.figure(figsize=(30,30))\n",
    "plt.show()"
   ]
  },
  {
   "cell_type": "markdown",
   "metadata": {},
   "source": [
    "### Further improvement strategy: With more time and with large data following improvement strategies are worth exploring \n",
    " - PCA(Principla Component Analysis) based decorrelation of the embedding vector space\n",
    " - Try with other NLP embedding feature extraction eg. tensorflow.keras embedding layer, GloVe(Global Vectors for Word Representation) etc. and build final classifier using those embedding vectors\n",
    " - Try with different clasifier algorithm- RandomForrest, LightGBM,CatGBM etc.\n",
    " - As a NLP based classifier with massive dataset the Keras-LSTM(Long short-term memory) (LSTM) based artificial recurrent neural network (RNN) architecture can be explored"
   ]
  },
  {
   "cell_type": "markdown",
   "metadata": {},
   "source": [
    "## The final ML pipeline- a light ready to implement classifier pipeline"
   ]
  },
  {
   "cell_type": "code",
   "execution_count": null,
   "metadata": {},
   "outputs": [],
   "source": [
    "selected_fields = ['id', 'title', 'description','user_description','serviceId','createdAt','target_date','tradeClassificationType','sbf_form_text']\n",
    "nlp_field = ['title', 'description']\n",
    "target_col_orig = 'serviceId'\n",
    "data_path = 'nlp_dat_classif.csv'\n",
    "model_path = mod_path\n",
    "language = 'german'\n",
    "nlp_recipe = gensim.models.Word2Vec\n",
    "classifier = xgb.XGBClassifier\n",
    "class nlp_classif:\n",
    "    def __init__(self, cv=3,data_split = 0.15,target_col_orig = target_col_orig,data_path = data_path,language=language,\\\n",
    "                 nlp_recipe = nlp_recipe,seed=100,classifier = xgb.XGBClassifier):\n",
    "        self.cv = cv\n",
    "        self.target_col_orig = target_col_orig\n",
    "        self.data_path = data_path\n",
    "        self.language = language\n",
    "        self.nlp_recipe = nlp_recipe\n",
    "        self.data_split = data_split\n",
    "        self.seed = seed\n",
    "        self.classifier=classifier\n",
    "    def data_preprocess(self):\n",
    "        data = pd.read_csv(data_path,encoding='ISO-8859-1')\n",
    "        data_useful = data[selected_fields]\n",
    "        data_useful = data_useful.replace(np.nan, '', regex=True)\n",
    "        data_useful.createdAt = pd.to_datetime(data_useful.createdAt)\n",
    "        l = []\n",
    "        for i in range(len(data_useful)):\n",
    "            if data_useful.target_date[i].split(':')[0] == 'Wunschtermin':\n",
    "                d = (pd.to_datetime(data_useful.target_date[i].split(':')[1].strip())-pd.to_datetime(data_useful.createdAt[i])).days \n",
    "                s = str(np.where(d<30,'Innerhalb der n?§chsten 30 Tage', np.where(30<d<=90,'In den n?§chsten 3 Monaten','In 3 bis 6 Monaten')))\n",
    "                l.append(s)\n",
    "            else:\n",
    "                l.append(data_useful.target_date[i])\n",
    "        data_useful['target_date_modified'] = pd.Series(l)\n",
    "        target = np.sort(data_useful['serviceId'].unique())\n",
    "        dic = {}\n",
    "        for i,j in enumerate(list(target)):\n",
    "            dic[j] = i\n",
    "        data_useful['serviceId_coded'] = [dic[i] for i in data_useful[self.target_col_orig].values] \n",
    "        data_useful['serviceId_coded'] = data_useful['serviceId_coded'].astype('category')\n",
    "        return data_useful \n",
    "    def nlp_processor(self,data_useful):\n",
    "        data_useful['composite_text'] = data['title'] + data['description'].map(str)\n",
    "        data_useful['composite_text'] = [re.sub(\"@[\\w]*\",'',str(data_useful.composite_text.values[i])).strip() for i in range(len(data_useful))] \n",
    "        data_useful['composite_text'] = [re.sub(\"\\d\",'',str(data_useful.composite_text.values[i])).strip() for i in range(len(data_useful))] \n",
    "        data_useful['composite_text'] = [str(data_useful.composite_text.values[i]).lower().strip() for i in range(len(data_useful))] \n",
    "        table = str.maketrans('', '', string.punctuation)\n",
    "        data_useful['clean_txt'] = data_useful['composite_text'].apply(lambda x: [w.translate(table) for w in x.split(' ') if w not in('.','')])\n",
    "        # stop_words = stopwords.words(self.language)\n",
    "        data_useful['clean_txt'] = data_useful['clean_txt'].apply(lambda x: [w for w in x if w not in(stop_words)])\n",
    "        mod = self.nlp_recipe(data_useful['clean_txt'],size = 100,min_count=1)\n",
    "        w2_v_feat = pd.DataFrame(columns = range(100))\n",
    "        for i in range(len(data_useful)):\n",
    "            w2_v_feat = w2_v_feat.append(pd.Series(np.mean(np.array([mod.wv.get_vector(w) for w in data_useful['clean_txt'][i]]),axis=0)),ignore_index=True)\n",
    "        w2_v_feat.columns = ['emb_%s' %(c) for c in range(1,101)]\n",
    "        emb_normalized = sklearn.preprocessing.normalize(w2_v_feat, norm='l2')\n",
    "        emb_normalized = pd.DataFrame(emb_normalized)\n",
    "        emb_normalized.columns = ['emb_%s' %(c) for c in range(1,101)]\n",
    "        return data_useful,emb_normalized\n",
    "    def final_mod_data_prep(self,data_useful,emb_normalized):\n",
    "        data_useful['tradeClassificationType'] = data_useful['tradeClassificationType'].astype('category')\n",
    "        dummy = pd.get_dummies(data_useful[['target_date_modified','tradeClassificationType']])\n",
    "        mod_data = pd.concat([dummy,emb_normalized,data_useful['serviceId_coded']], axis=1)\n",
    "        train_X,validation_X,train_Y,validation_Y = train_test_split(mod_data.drop('serviceId_coded',axis=1),mod_data['serviceId_coded'],test_size = self.data_split, random_state = self.seed)\n",
    "        print(train_X.shape,validation_X.shape,train_Y.shape,validation_Y.shape)\n",
    "        return train_X,validation_X,train_Y,validation_Y\n",
    "     def cv_fine_tuned_mod(self,train_X,validation_X,train_Y,validation_Y):\n",
    "        ind_params = {'n_estimators': 300, 'seed':100,\n",
    "             'objective': 'multi:softprob'}\n",
    "        ind_params['nthread'] = 4\n",
    "        ind_params['eval_metric'] = 'merror'\n",
    "        ind_params['num_class'] = data_useful['serviceId_coded'].nunique()\n",
    "        xgb_model = self.classifier(ind_params,seed=100)\n",
    "        clf = GridSearchCV(xgb_model,\n",
    "                   {'max_depth': [6,7,8],'subsample': [0.7,0.8], 'colsample_bytree': [0.7,0.8,0.9],'min_child_weight': [1,5],'learning_rate': [0.04],\n",
    "                    }, verbose=2,cv=self.cv,scoring='accuracy')\n",
    "        clf.fit(train_X, train_Y)\n",
    "        print(clf.best_params_)\n",
    "        print(clf.best_score_)\n",
    "        bst = clf.best_estimator_\n",
    "        eval_set  = [(train_X,train_Y), (validation_X,validation_Y)]\n",
    "        mod_bst = bst.fit(train_X, train_Y,eval_set=eval_set,verbose = 10,early_stopping_rounds=80,\n",
    "        eval_metric=\"merror\")\n",
    "        pred_y = mod_bst.predict(validation_X)\n",
    "        train_id,validation_id = train_test_split(data[['id']],test_size = 0.15, random_state = 20)\n",
    "        validation_dat = pd.DataFrame({'id':validation_id.values,'actual':validation_Y,'prediction':pred_y})\n",
    "        inv_dic = {v:k  for k,v in dic.items()}  \n",
    "        validation_dat['actual'] = [inv_dic[i] for i in validation_dat['actual'].values] \n",
    "        validation_dat['prediction'] = [inv_dic[i] for i in validation_dat['prediction'].values] \n",
    "        validation_dat.to_csv('valid_actual_pred.csv',index=False)\n",
    "        print(metrics.confusion_matrix(validation_Y,pred_y))\n",
    "        print(metrics.classification_report(validation_Y, pred_y, digits=3))\n",
    "        return mod_bst"
   ]
  },
  {
   "cell_type": "code",
   "execution_count": null,
   "metadata": {},
   "outputs": [],
   "source": [
    "if __name__ == '__main__':\n",
    "    data = pd.read_csv(data_path,encoding='ISO-8859-1')\n",
    "    nc = nlp_classif()\n",
    "    data_useful = nc.data_preprocess()\n",
    "    data_useful,emb_feat = nc.nlp_processor(data_useful)\n",
    "    train_X,validation_X,train_Y,validation_Y = nc.final_mod_data_prep(data_useful,emb_feat)\n",
    "    mod = nc.cv_fine_tuned_mod(train_X,validation_X,train_Y,validation_Y)\n",
    "    with open(os.path.join(mod_path,'serviceid_classif.pickle'), 'wb') as f:\n",
    "        pickle.dump(clf, f)"
   ]
  },
  {
   "cell_type": "markdown",
   "metadata": {},
   "source": [
    "##  Thank You! Open for Questions"
   ]
  }
 ],
 "metadata": {
  "kernelspec": {
   "display_name": "spark-2.4-default",
   "language": "python",
   "name": "py3-spark-2.4-kernel-default"
  },
  "language_info": {
   "codemirror_mode": {
    "name": "ipython",
    "version": 3
   },
   "file_extension": ".py",
   "mimetype": "text/x-python",
   "name": "python",
   "nbconvert_exporter": "python",
   "pygments_lexer": "ipython3",
   "version": "3.6.12"
  }
 },
 "nbformat": 4,
 "nbformat_minor": 4
}
